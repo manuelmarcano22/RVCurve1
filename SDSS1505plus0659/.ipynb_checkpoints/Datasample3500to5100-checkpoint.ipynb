{
 "cells": [
  {
   "cell_type": "code",
   "execution_count": 1,
   "metadata": {},
   "outputs": [
    {
     "data": {
      "text/html": [
       "\n",
       "    <div class=\"bk-root\">\n",
       "        <a href=\"https://bokeh.pydata.org\" target=\"_blank\" class=\"bk-logo bk-logo-small bk-logo-notebook\"></a>\n",
       "        <span id=\"1001\">Loading BokehJS ...</span>\n",
       "    </div>"
      ]
     },
     "metadata": {},
     "output_type": "display_data"
    },
    {
     "data": {
      "application/javascript": [
       "\n",
       "(function(root) {\n",
       "  function now() {\n",
       "    return new Date();\n",
       "  }\n",
       "\n",
       "  var force = true;\n",
       "\n",
       "  if (typeof (root._bokeh_onload_callbacks) === \"undefined\" || force === true) {\n",
       "    root._bokeh_onload_callbacks = [];\n",
       "    root._bokeh_is_loading = undefined;\n",
       "  }\n",
       "\n",
       "  var JS_MIME_TYPE = 'application/javascript';\n",
       "  var HTML_MIME_TYPE = 'text/html';\n",
       "  var EXEC_MIME_TYPE = 'application/vnd.bokehjs_exec.v0+json';\n",
       "  var CLASS_NAME = 'output_bokeh rendered_html';\n",
       "\n",
       "  /**\n",
       "   * Render data to the DOM node\n",
       "   */\n",
       "  function render(props, node) {\n",
       "    var script = document.createElement(\"script\");\n",
       "    node.appendChild(script);\n",
       "  }\n",
       "\n",
       "  /**\n",
       "   * Handle when an output is cleared or removed\n",
       "   */\n",
       "  function handleClearOutput(event, handle) {\n",
       "    var cell = handle.cell;\n",
       "\n",
       "    var id = cell.output_area._bokeh_element_id;\n",
       "    var server_id = cell.output_area._bokeh_server_id;\n",
       "    // Clean up Bokeh references\n",
       "    if (id != null && id in Bokeh.index) {\n",
       "      Bokeh.index[id].model.document.clear();\n",
       "      delete Bokeh.index[id];\n",
       "    }\n",
       "\n",
       "    if (server_id !== undefined) {\n",
       "      // Clean up Bokeh references\n",
       "      var cmd = \"from bokeh.io.state import curstate; print(curstate().uuid_to_server['\" + server_id + \"'].get_sessions()[0].document.roots[0]._id)\";\n",
       "      cell.notebook.kernel.execute(cmd, {\n",
       "        iopub: {\n",
       "          output: function(msg) {\n",
       "            var id = msg.content.text.trim();\n",
       "            if (id in Bokeh.index) {\n",
       "              Bokeh.index[id].model.document.clear();\n",
       "              delete Bokeh.index[id];\n",
       "            }\n",
       "          }\n",
       "        }\n",
       "      });\n",
       "      // Destroy server and session\n",
       "      var cmd = \"import bokeh.io.notebook as ion; ion.destroy_server('\" + server_id + \"')\";\n",
       "      cell.notebook.kernel.execute(cmd);\n",
       "    }\n",
       "  }\n",
       "\n",
       "  /**\n",
       "   * Handle when a new output is added\n",
       "   */\n",
       "  function handleAddOutput(event, handle) {\n",
       "    var output_area = handle.output_area;\n",
       "    var output = handle.output;\n",
       "\n",
       "    // limit handleAddOutput to display_data with EXEC_MIME_TYPE content only\n",
       "    if ((output.output_type != \"display_data\") || (!output.data.hasOwnProperty(EXEC_MIME_TYPE))) {\n",
       "      return\n",
       "    }\n",
       "\n",
       "    var toinsert = output_area.element.find(\".\" + CLASS_NAME.split(' ')[0]);\n",
       "\n",
       "    if (output.metadata[EXEC_MIME_TYPE][\"id\"] !== undefined) {\n",
       "      toinsert[toinsert.length - 1].firstChild.textContent = output.data[JS_MIME_TYPE];\n",
       "      // store reference to embed id on output_area\n",
       "      output_area._bokeh_element_id = output.metadata[EXEC_MIME_TYPE][\"id\"];\n",
       "    }\n",
       "    if (output.metadata[EXEC_MIME_TYPE][\"server_id\"] !== undefined) {\n",
       "      var bk_div = document.createElement(\"div\");\n",
       "      bk_div.innerHTML = output.data[HTML_MIME_TYPE];\n",
       "      var script_attrs = bk_div.children[0].attributes;\n",
       "      for (var i = 0; i < script_attrs.length; i++) {\n",
       "        toinsert[toinsert.length - 1].firstChild.setAttribute(script_attrs[i].name, script_attrs[i].value);\n",
       "      }\n",
       "      // store reference to server id on output_area\n",
       "      output_area._bokeh_server_id = output.metadata[EXEC_MIME_TYPE][\"server_id\"];\n",
       "    }\n",
       "  }\n",
       "\n",
       "  function register_renderer(events, OutputArea) {\n",
       "\n",
       "    function append_mime(data, metadata, element) {\n",
       "      // create a DOM node to render to\n",
       "      var toinsert = this.create_output_subarea(\n",
       "        metadata,\n",
       "        CLASS_NAME,\n",
       "        EXEC_MIME_TYPE\n",
       "      );\n",
       "      this.keyboard_manager.register_events(toinsert);\n",
       "      // Render to node\n",
       "      var props = {data: data, metadata: metadata[EXEC_MIME_TYPE]};\n",
       "      render(props, toinsert[toinsert.length - 1]);\n",
       "      element.append(toinsert);\n",
       "      return toinsert\n",
       "    }\n",
       "\n",
       "    /* Handle when an output is cleared or removed */\n",
       "    events.on('clear_output.CodeCell', handleClearOutput);\n",
       "    events.on('delete.Cell', handleClearOutput);\n",
       "\n",
       "    /* Handle when a new output is added */\n",
       "    events.on('output_added.OutputArea', handleAddOutput);\n",
       "\n",
       "    /**\n",
       "     * Register the mime type and append_mime function with output_area\n",
       "     */\n",
       "    OutputArea.prototype.register_mime_type(EXEC_MIME_TYPE, append_mime, {\n",
       "      /* Is output safe? */\n",
       "      safe: true,\n",
       "      /* Index of renderer in `output_area.display_order` */\n",
       "      index: 0\n",
       "    });\n",
       "  }\n",
       "\n",
       "  // register the mime type if in Jupyter Notebook environment and previously unregistered\n",
       "  if (root.Jupyter !== undefined) {\n",
       "    var events = require('base/js/events');\n",
       "    var OutputArea = require('notebook/js/outputarea').OutputArea;\n",
       "\n",
       "    if (OutputArea.prototype.mime_types().indexOf(EXEC_MIME_TYPE) == -1) {\n",
       "      register_renderer(events, OutputArea);\n",
       "    }\n",
       "  }\n",
       "\n",
       "  \n",
       "  if (typeof (root._bokeh_timeout) === \"undefined\" || force === true) {\n",
       "    root._bokeh_timeout = Date.now() + 5000;\n",
       "    root._bokeh_failed_load = false;\n",
       "  }\n",
       "\n",
       "  var NB_LOAD_WARNING = {'data': {'text/html':\n",
       "     \"<div style='background-color: #fdd'>\\n\"+\n",
       "     \"<p>\\n\"+\n",
       "     \"BokehJS does not appear to have successfully loaded. If loading BokehJS from CDN, this \\n\"+\n",
       "     \"may be due to a slow or bad network connection. Possible fixes:\\n\"+\n",
       "     \"</p>\\n\"+\n",
       "     \"<ul>\\n\"+\n",
       "     \"<li>re-rerun `output_notebook()` to attempt to load from CDN again, or</li>\\n\"+\n",
       "     \"<li>use INLINE resources instead, as so:</li>\\n\"+\n",
       "     \"</ul>\\n\"+\n",
       "     \"<code>\\n\"+\n",
       "     \"from bokeh.resources import INLINE\\n\"+\n",
       "     \"output_notebook(resources=INLINE)\\n\"+\n",
       "     \"</code>\\n\"+\n",
       "     \"</div>\"}};\n",
       "\n",
       "  function display_loaded() {\n",
       "    var el = document.getElementById(\"1001\");\n",
       "    if (el != null) {\n",
       "      el.textContent = \"BokehJS is loading...\";\n",
       "    }\n",
       "    if (root.Bokeh !== undefined) {\n",
       "      if (el != null) {\n",
       "        el.textContent = \"BokehJS \" + root.Bokeh.version + \" successfully loaded.\";\n",
       "      }\n",
       "    } else if (Date.now() < root._bokeh_timeout) {\n",
       "      setTimeout(display_loaded, 100)\n",
       "    }\n",
       "  }\n",
       "\n",
       "\n",
       "  function run_callbacks() {\n",
       "    try {\n",
       "      root._bokeh_onload_callbacks.forEach(function(callback) { callback() });\n",
       "    }\n",
       "    finally {\n",
       "      delete root._bokeh_onload_callbacks\n",
       "    }\n",
       "    console.info(\"Bokeh: all callbacks have finished\");\n",
       "  }\n",
       "\n",
       "  function load_libs(js_urls, callback) {\n",
       "    root._bokeh_onload_callbacks.push(callback);\n",
       "    if (root._bokeh_is_loading > 0) {\n",
       "      console.log(\"Bokeh: BokehJS is being loaded, scheduling callback at\", now());\n",
       "      return null;\n",
       "    }\n",
       "    if (js_urls == null || js_urls.length === 0) {\n",
       "      run_callbacks();\n",
       "      return null;\n",
       "    }\n",
       "    console.log(\"Bokeh: BokehJS not loaded, scheduling load and callback at\", now());\n",
       "    root._bokeh_is_loading = js_urls.length;\n",
       "    for (var i = 0; i < js_urls.length; i++) {\n",
       "      var url = js_urls[i];\n",
       "      var s = document.createElement('script');\n",
       "      s.src = url;\n",
       "      s.async = false;\n",
       "      s.onreadystatechange = s.onload = function() {\n",
       "        root._bokeh_is_loading--;\n",
       "        if (root._bokeh_is_loading === 0) {\n",
       "          console.log(\"Bokeh: all BokehJS libraries loaded\");\n",
       "          run_callbacks()\n",
       "        }\n",
       "      };\n",
       "      s.onerror = function() {\n",
       "        console.warn(\"failed to load library \" + url);\n",
       "      };\n",
       "      console.log(\"Bokeh: injecting script tag for BokehJS library: \", url);\n",
       "      document.getElementsByTagName(\"head\")[0].appendChild(s);\n",
       "    }\n",
       "  };var element = document.getElementById(\"1001\");\n",
       "  if (element == null) {\n",
       "    console.log(\"Bokeh: ERROR: autoload.js configured with elementid '1001' but no matching script tag was found. \")\n",
       "    return false;\n",
       "  }\n",
       "\n",
       "  var js_urls = [\"https://cdn.pydata.org/bokeh/release/bokeh-1.0.2.min.js\", \"https://cdn.pydata.org/bokeh/release/bokeh-widgets-1.0.2.min.js\", \"https://cdn.pydata.org/bokeh/release/bokeh-tables-1.0.2.min.js\", \"https://cdn.pydata.org/bokeh/release/bokeh-gl-1.0.2.min.js\"];\n",
       "\n",
       "  var inline_js = [\n",
       "    function(Bokeh) {\n",
       "      Bokeh.set_log_level(\"info\");\n",
       "    },\n",
       "    \n",
       "    function(Bokeh) {\n",
       "      \n",
       "    },\n",
       "    function(Bokeh) {\n",
       "      console.log(\"Bokeh: injecting CSS: https://cdn.pydata.org/bokeh/release/bokeh-1.0.2.min.css\");\n",
       "      Bokeh.embed.inject_css(\"https://cdn.pydata.org/bokeh/release/bokeh-1.0.2.min.css\");\n",
       "      console.log(\"Bokeh: injecting CSS: https://cdn.pydata.org/bokeh/release/bokeh-widgets-1.0.2.min.css\");\n",
       "      Bokeh.embed.inject_css(\"https://cdn.pydata.org/bokeh/release/bokeh-widgets-1.0.2.min.css\");\n",
       "      console.log(\"Bokeh: injecting CSS: https://cdn.pydata.org/bokeh/release/bokeh-tables-1.0.2.min.css\");\n",
       "      Bokeh.embed.inject_css(\"https://cdn.pydata.org/bokeh/release/bokeh-tables-1.0.2.min.css\");\n",
       "    }\n",
       "  ];\n",
       "\n",
       "  function run_inline_js() {\n",
       "    \n",
       "    if ((root.Bokeh !== undefined) || (force === true)) {\n",
       "      for (var i = 0; i < inline_js.length; i++) {\n",
       "        inline_js[i].call(root, root.Bokeh);\n",
       "      }if (force === true) {\n",
       "        display_loaded();\n",
       "      }} else if (Date.now() < root._bokeh_timeout) {\n",
       "      setTimeout(run_inline_js, 100);\n",
       "    } else if (!root._bokeh_failed_load) {\n",
       "      console.log(\"Bokeh: BokehJS failed to load within specified timeout.\");\n",
       "      root._bokeh_failed_load = true;\n",
       "    } else if (force !== true) {\n",
       "      var cell = $(document.getElementById(\"1001\")).parents('.cell').data().cell;\n",
       "      cell.output_area.append_execute_result(NB_LOAD_WARNING)\n",
       "    }\n",
       "\n",
       "  }\n",
       "\n",
       "  if (root._bokeh_is_loading === 0) {\n",
       "    console.log(\"Bokeh: BokehJS loaded, going straight to plotting\");\n",
       "    run_inline_js();\n",
       "  } else {\n",
       "    load_libs(js_urls, function() {\n",
       "      console.log(\"Bokeh: BokehJS plotting callback run at\", now());\n",
       "      run_inline_js();\n",
       "    });\n",
       "  }\n",
       "}(window));"
      ],
      "application/vnd.bokehjs_load.v0+json": "\n(function(root) {\n  function now() {\n    return new Date();\n  }\n\n  var force = true;\n\n  if (typeof (root._bokeh_onload_callbacks) === \"undefined\" || force === true) {\n    root._bokeh_onload_callbacks = [];\n    root._bokeh_is_loading = undefined;\n  }\n\n  \n\n  \n  if (typeof (root._bokeh_timeout) === \"undefined\" || force === true) {\n    root._bokeh_timeout = Date.now() + 5000;\n    root._bokeh_failed_load = false;\n  }\n\n  var NB_LOAD_WARNING = {'data': {'text/html':\n     \"<div style='background-color: #fdd'>\\n\"+\n     \"<p>\\n\"+\n     \"BokehJS does not appear to have successfully loaded. If loading BokehJS from CDN, this \\n\"+\n     \"may be due to a slow or bad network connection. Possible fixes:\\n\"+\n     \"</p>\\n\"+\n     \"<ul>\\n\"+\n     \"<li>re-rerun `output_notebook()` to attempt to load from CDN again, or</li>\\n\"+\n     \"<li>use INLINE resources instead, as so:</li>\\n\"+\n     \"</ul>\\n\"+\n     \"<code>\\n\"+\n     \"from bokeh.resources import INLINE\\n\"+\n     \"output_notebook(resources=INLINE)\\n\"+\n     \"</code>\\n\"+\n     \"</div>\"}};\n\n  function display_loaded() {\n    var el = document.getElementById(\"1001\");\n    if (el != null) {\n      el.textContent = \"BokehJS is loading...\";\n    }\n    if (root.Bokeh !== undefined) {\n      if (el != null) {\n        el.textContent = \"BokehJS \" + root.Bokeh.version + \" successfully loaded.\";\n      }\n    } else if (Date.now() < root._bokeh_timeout) {\n      setTimeout(display_loaded, 100)\n    }\n  }\n\n\n  function run_callbacks() {\n    try {\n      root._bokeh_onload_callbacks.forEach(function(callback) { callback() });\n    }\n    finally {\n      delete root._bokeh_onload_callbacks\n    }\n    console.info(\"Bokeh: all callbacks have finished\");\n  }\n\n  function load_libs(js_urls, callback) {\n    root._bokeh_onload_callbacks.push(callback);\n    if (root._bokeh_is_loading > 0) {\n      console.log(\"Bokeh: BokehJS is being loaded, scheduling callback at\", now());\n      return null;\n    }\n    if (js_urls == null || js_urls.length === 0) {\n      run_callbacks();\n      return null;\n    }\n    console.log(\"Bokeh: BokehJS not loaded, scheduling load and callback at\", now());\n    root._bokeh_is_loading = js_urls.length;\n    for (var i = 0; i < js_urls.length; i++) {\n      var url = js_urls[i];\n      var s = document.createElement('script');\n      s.src = url;\n      s.async = false;\n      s.onreadystatechange = s.onload = function() {\n        root._bokeh_is_loading--;\n        if (root._bokeh_is_loading === 0) {\n          console.log(\"Bokeh: all BokehJS libraries loaded\");\n          run_callbacks()\n        }\n      };\n      s.onerror = function() {\n        console.warn(\"failed to load library \" + url);\n      };\n      console.log(\"Bokeh: injecting script tag for BokehJS library: \", url);\n      document.getElementsByTagName(\"head\")[0].appendChild(s);\n    }\n  };var element = document.getElementById(\"1001\");\n  if (element == null) {\n    console.log(\"Bokeh: ERROR: autoload.js configured with elementid '1001' but no matching script tag was found. \")\n    return false;\n  }\n\n  var js_urls = [\"https://cdn.pydata.org/bokeh/release/bokeh-1.0.2.min.js\", \"https://cdn.pydata.org/bokeh/release/bokeh-widgets-1.0.2.min.js\", \"https://cdn.pydata.org/bokeh/release/bokeh-tables-1.0.2.min.js\", \"https://cdn.pydata.org/bokeh/release/bokeh-gl-1.0.2.min.js\"];\n\n  var inline_js = [\n    function(Bokeh) {\n      Bokeh.set_log_level(\"info\");\n    },\n    \n    function(Bokeh) {\n      \n    },\n    function(Bokeh) {\n      console.log(\"Bokeh: injecting CSS: https://cdn.pydata.org/bokeh/release/bokeh-1.0.2.min.css\");\n      Bokeh.embed.inject_css(\"https://cdn.pydata.org/bokeh/release/bokeh-1.0.2.min.css\");\n      console.log(\"Bokeh: injecting CSS: https://cdn.pydata.org/bokeh/release/bokeh-widgets-1.0.2.min.css\");\n      Bokeh.embed.inject_css(\"https://cdn.pydata.org/bokeh/release/bokeh-widgets-1.0.2.min.css\");\n      console.log(\"Bokeh: injecting CSS: https://cdn.pydata.org/bokeh/release/bokeh-tables-1.0.2.min.css\");\n      Bokeh.embed.inject_css(\"https://cdn.pydata.org/bokeh/release/bokeh-tables-1.0.2.min.css\");\n    }\n  ];\n\n  function run_inline_js() {\n    \n    if ((root.Bokeh !== undefined) || (force === true)) {\n      for (var i = 0; i < inline_js.length; i++) {\n        inline_js[i].call(root, root.Bokeh);\n      }if (force === true) {\n        display_loaded();\n      }} else if (Date.now() < root._bokeh_timeout) {\n      setTimeout(run_inline_js, 100);\n    } else if (!root._bokeh_failed_load) {\n      console.log(\"Bokeh: BokehJS failed to load within specified timeout.\");\n      root._bokeh_failed_load = true;\n    } else if (force !== true) {\n      var cell = $(document.getElementById(\"1001\")).parents('.cell').data().cell;\n      cell.output_area.append_execute_result(NB_LOAD_WARNING)\n    }\n\n  }\n\n  if (root._bokeh_is_loading === 0) {\n    console.log(\"Bokeh: BokehJS loaded, going straight to plotting\");\n    run_inline_js();\n  } else {\n    load_libs(js_urls, function() {\n      console.log(\"Bokeh: BokehJS plotting callback run at\", now());\n      run_inline_js();\n    });\n  }\n}(window));"
     },
     "metadata": {},
     "output_type": "display_data"
    }
   ],
   "source": [
    "from astropy.time import Time\n",
    "#Bokeh plotting\n",
    "from bokeh.io import push_notebook, show, output_notebook\n",
    "from bokeh.plotting import figure\n",
    "from bokeh.models import Span, Label, Arrow, NormalHead\n",
    "from bokeh.models import HoverTool, tools, ColumnDataSource, CustomJS, Slider, BoxAnnotation\n",
    "output_notebook()\n",
    "from bokeh.models import HoverTool, tools, ColumnDataSource, CustomJS, Slider, BoxAnnotation\n",
    "from bokeh.layouts import  column, row\n",
    "from astropy.timeseries import LombScargle\n",
    "import numpy as np\n",
    "from bokeh.palettes import viridis, inferno\n",
    "import matplotlib.pyplot as plt\n",
    "from bokeh.models import Title\n",
    "from bokeh.models import HoverTool, tools,ColumnDataSource, Whisker, ColorBar, LinearColorMapper"
   ]
  },
  {
   "cell_type": "code",
   "execution_count": 2,
   "metadata": {},
   "outputs": [],
   "source": [
    "t = ['2015-04-09T06:34:07.011',\n",
    "     '2015-04-09T06:40:09.004',\n",
    "     '2015-04-09T06:46:11.007',\n",
    "     '2015-04-09T06:52:14.000',\n",
    "     '2015-04-09T06:58:17.018',\n",
    "     '2015-04-09T07:04:20.007',\n",
    "     '2015-04-09T07:10:23.000',\n",
    "     '2015-04-09T07:16:26.004',\n",
    "     '2015-04-09T07:22:28.007',\n",
    "     '2015-04-09T07:44:36.009',\n",
    "     '2015-04-09T07:50:38.002',\n",
    "     '2015-04-09T07:56:40.005',\n",
    "     '2015-04-09T08:02:44.008',\n",
    "     '2015-04-09T08:08:45.001',\n",
    "     '2015-04-09T08:14:47.019',\n",
    "     '2015-04-09T08:20:49.007',\n",
    "     '2015-04-09T08:26:52.028',\n",
    "     '2015-04-09T08:32:55.004']"
   ]
  },
  {
   "cell_type": "code",
   "execution_count": 3,
   "metadata": {},
   "outputs": [
    {
     "data": {
      "text/plain": [
       "18"
      ]
     },
     "execution_count": 3,
     "metadata": {},
     "output_type": "execute_result"
    }
   ],
   "source": [
    "len(t)"
   ]
  },
  {
   "cell_type": "code",
   "execution_count": 4,
   "metadata": {},
   "outputs": [],
   "source": [
    "t2 = Time(t,format='isot', scale='utc')"
   ]
  },
  {
   "cell_type": "code",
   "execution_count": 5,
   "metadata": {},
   "outputs": [],
   "source": [
    "vrad = [0,\n",
    "        1.098,\n",
    "        10.5,\n",
    "        12.668,\n",
    "        4.5,\n",
    "        0.38,\n",
    "        11.48,\n",
    "        0.67,\n",
    "        -3.49,\n",
    "        5.17,\n",
    "        7.79,\n",
    "        3.919,\n",
    "        5.05,\n",
    "        2.3,\n",
    "        3.98,\n",
    "        3.53,\n",
    "        3.22,\n",
    "        9.1]\n",
    "    \n"
   ]
  },
  {
   "cell_type": "code",
   "execution_count": 6,
   "metadata": {},
   "outputs": [
    {
     "data": {
      "text/plain": [
       "18"
      ]
     },
     "execution_count": 6,
     "metadata": {},
     "output_type": "execute_result"
    }
   ],
   "source": [
    "len(vrad)"
   ]
  },
  {
   "cell_type": "code",
   "execution_count": 7,
   "metadata": {},
   "outputs": [
    {
     "data": {
      "text/html": [
       "\n",
       "\n",
       "\n",
       "\n",
       "\n",
       "\n",
       "  <div class=\"bk-root\" id=\"8448f2fb-4a14-49cf-a28e-5327d4a68f3c\"></div>\n"
      ]
     },
     "metadata": {},
     "output_type": "display_data"
    },
    {
     "data": {
      "application/javascript": [
       "(function(root) {\n",
       "  function embed_document(root) {\n",
       "    \n",
       "  var docs_json = {\"8a2650f8-c6be-47bd-9c2b-e1e3c61013fd\":{\"roots\":{\"references\":[{\"attributes\":{\"below\":[{\"id\":\"1015\",\"type\":\"LinearAxis\"}],\"left\":[{\"id\":\"1020\",\"type\":\"LinearAxis\"}],\"plot_height\":700,\"plot_width\":900,\"renderers\":[{\"id\":\"1015\",\"type\":\"LinearAxis\"},{\"id\":\"1019\",\"type\":\"Grid\"},{\"id\":\"1020\",\"type\":\"LinearAxis\"},{\"id\":\"1024\",\"type\":\"Grid\"},{\"id\":\"1033\",\"type\":\"BoxAnnotation\"},{\"id\":\"1044\",\"type\":\"GlyphRenderer\"}],\"title\":{\"id\":\"1004\",\"type\":\"Title\"},\"toolbar\":{\"id\":\"1031\",\"type\":\"Toolbar\"},\"x_range\":{\"id\":\"1007\",\"type\":\"DataRange1d\"},\"x_scale\":{\"id\":\"1011\",\"type\":\"LinearScale\"},\"y_range\":{\"id\":\"1009\",\"type\":\"DataRange1d\"},\"y_scale\":{\"id\":\"1013\",\"type\":\"LinearScale\"}},\"id\":\"1005\",\"subtype\":\"Figure\",\"type\":\"Plot\"},{\"attributes\":{\"axis_label\":\"vrad(km/s)\",\"formatter\":{\"id\":\"1048\",\"type\":\"BasicTickFormatter\"},\"plot\":{\"id\":\"1005\",\"subtype\":\"Figure\",\"type\":\"Plot\"},\"ticker\":{\"id\":\"1021\",\"type\":\"BasicTicker\"}},\"id\":\"1020\",\"type\":\"LinearAxis\"},{\"attributes\":{\"dimension\":1,\"plot\":{\"id\":\"1005\",\"subtype\":\"Figure\",\"type\":\"Plot\"},\"ticker\":{\"id\":\"1021\",\"type\":\"BasicTicker\"}},\"id\":\"1024\",\"type\":\"Grid\"},{\"attributes\":{},\"id\":\"1051\",\"type\":\"Selection\"},{\"attributes\":{\"bottom_units\":\"screen\",\"fill_alpha\":{\"value\":0.5},\"fill_color\":{\"value\":\"lightgrey\"},\"left_units\":\"screen\",\"level\":\"overlay\",\"line_alpha\":{\"value\":1.0},\"line_color\":{\"value\":\"black\"},\"line_dash\":[4,4],\"line_width\":{\"value\":2},\"plot\":null,\"render_mode\":\"css\",\"right_units\":\"screen\",\"top_units\":\"screen\"},\"id\":\"1033\",\"type\":\"BoxAnnotation\"},{\"attributes\":{\"plot\":null,\"text\":\"Spectra\"},\"id\":\"1004\",\"type\":\"Title\"},{\"attributes\":{\"line_color\":\"#1f77b4\",\"x\":{\"field\":\"x\"},\"y\":{\"field\":\"y\"}},\"id\":\"1042\",\"type\":\"Line\"},{\"attributes\":{\"callback\":null},\"id\":\"1007\",\"type\":\"DataRange1d\"},{\"attributes\":{},\"id\":\"1021\",\"type\":\"BasicTicker\"},{\"attributes\":{\"axis_label\":\"MJD\",\"formatter\":{\"id\":\"1050\",\"type\":\"BasicTickFormatter\"},\"plot\":{\"id\":\"1005\",\"subtype\":\"Figure\",\"type\":\"Plot\"},\"ticker\":{\"id\":\"1016\",\"type\":\"BasicTicker\"}},\"id\":\"1015\",\"type\":\"LinearAxis\"},{\"attributes\":{\"line_alpha\":0.1,\"line_color\":\"#1f77b4\",\"x\":{\"field\":\"x\"},\"y\":{\"field\":\"y\"}},\"id\":\"1043\",\"type\":\"Line\"},{\"attributes\":{\"active_drag\":\"auto\",\"active_inspect\":\"auto\",\"active_multi\":null,\"active_scroll\":{\"id\":\"1026\",\"type\":\"WheelZoomTool\"},\"active_tap\":\"auto\",\"tools\":[{\"id\":\"1025\",\"type\":\"PanTool\"},{\"id\":\"1026\",\"type\":\"WheelZoomTool\"},{\"id\":\"1027\",\"type\":\"BoxZoomTool\"},{\"id\":\"1028\",\"type\":\"SaveTool\"},{\"id\":\"1029\",\"type\":\"ResetTool\"},{\"id\":\"1030\",\"type\":\"HelpTool\"},{\"id\":\"1003\",\"type\":\"HoverTool\"}]},\"id\":\"1031\",\"type\":\"Toolbar\"},{\"attributes\":{},\"id\":\"1011\",\"type\":\"LinearScale\"},{\"attributes\":{\"callback\":null},\"id\":\"1009\",\"type\":\"DataRange1d\"},{\"attributes\":{\"source\":{\"id\":\"1002\",\"type\":\"ColumnDataSource\"}},\"id\":\"1045\",\"type\":\"CDSView\"},{\"attributes\":{},\"id\":\"1050\",\"type\":\"BasicTickFormatter\"},{\"attributes\":{\"plot\":{\"id\":\"1005\",\"subtype\":\"Figure\",\"type\":\"Plot\"},\"ticker\":{\"id\":\"1016\",\"type\":\"BasicTicker\"}},\"id\":\"1019\",\"type\":\"Grid\"},{\"attributes\":{},\"id\":\"1052\",\"type\":\"UnionRenderers\"},{\"attributes\":{},\"id\":\"1025\",\"type\":\"PanTool\"},{\"attributes\":{\"callback\":null,\"data\":{\"x\":{\"__ndarray__\":\"mEMWwijk60DMxWjkKOTrQCSGuwYp5OtAIU4mKSnk60B2sZFLKeTrQJhg/G0p5OtAlShnkCnk60DsNNKyKeTrQEP1JNUp5OtAcwIPUyrk60CnhGF1KuTrQP9EtJcq5OtA6JA3uirk60BTzXHcKuTrQODqxP4q5OtAAk4XISvk60D8w4JDK+TrQFYi7WUr5OtA\",\"dtype\":\"float64\",\"shape\":[18]},\"y\":[0,1.098,10.5,12.668,4.5,0.38,11.48,0.67,-3.49,5.17,7.79,3.919,5.05,2.3,3.98,3.53,3.22,9.1]},\"selected\":{\"id\":\"1051\",\"type\":\"Selection\"},\"selection_policy\":{\"id\":\"1052\",\"type\":\"UnionRenderers\"}},\"id\":\"1002\",\"type\":\"ColumnDataSource\"},{\"attributes\":{},\"id\":\"1026\",\"type\":\"WheelZoomTool\"},{\"attributes\":{\"callback\":null,\"tooltips\":[[\"(x,y)\",\"($x{1.11}, $y)\"]]},\"id\":\"1003\",\"type\":\"HoverTool\"},{\"attributes\":{},\"id\":\"1013\",\"type\":\"LinearScale\"},{\"attributes\":{},\"id\":\"1048\",\"type\":\"BasicTickFormatter\"},{\"attributes\":{\"overlay\":{\"id\":\"1033\",\"type\":\"BoxAnnotation\"}},\"id\":\"1027\",\"type\":\"BoxZoomTool\"},{\"attributes\":{},\"id\":\"1028\",\"type\":\"SaveTool\"},{\"attributes\":{},\"id\":\"1016\",\"type\":\"BasicTicker\"},{\"attributes\":{},\"id\":\"1029\",\"type\":\"ResetTool\"},{\"attributes\":{\"data_source\":{\"id\":\"1002\",\"type\":\"ColumnDataSource\"},\"glyph\":{\"id\":\"1042\",\"type\":\"Line\"},\"hover_glyph\":null,\"muted_glyph\":null,\"nonselection_glyph\":{\"id\":\"1043\",\"type\":\"Line\"},\"selection_glyph\":null,\"view\":{\"id\":\"1045\",\"type\":\"CDSView\"}},\"id\":\"1044\",\"type\":\"GlyphRenderer\"},{\"attributes\":{},\"id\":\"1030\",\"type\":\"HelpTool\"}],\"root_ids\":[\"1005\"]},\"title\":\"Bokeh Application\",\"version\":\"1.0.2\"}};\n",
       "  var render_items = [{\"docid\":\"8a2650f8-c6be-47bd-9c2b-e1e3c61013fd\",\"roots\":{\"1005\":\"8448f2fb-4a14-49cf-a28e-5327d4a68f3c\"}}];\n",
       "  root.Bokeh.embed.embed_items_notebook(docs_json, render_items);\n",
       "\n",
       "  }\n",
       "  if (root.Bokeh !== undefined) {\n",
       "    embed_document(root);\n",
       "  } else {\n",
       "    var attempts = 0;\n",
       "    var timer = setInterval(function(root) {\n",
       "      if (root.Bokeh !== undefined) {\n",
       "        embed_document(root);\n",
       "        clearInterval(timer);\n",
       "      }\n",
       "      attempts++;\n",
       "      if (attempts > 100) {\n",
       "        console.log(\"Bokeh: ERROR: Unable to run BokehJS code because BokehJS library is missing\");\n",
       "        clearInterval(timer);\n",
       "      }\n",
       "    }, 10, root)\n",
       "  }\n",
       "})(window);"
      ],
      "application/vnd.bokehjs_exec.v0+json": ""
     },
     "metadata": {
      "application/vnd.bokehjs_exec.v0+json": {
       "id": "1005"
      }
     },
     "output_type": "display_data"
    }
   ],
   "source": [
    "\n",
    "source = ColumnDataSource(data=dict(x=t2.mjd,y=vrad))\n",
    "hover = HoverTool(\n",
    "        tooltips=[\n",
    "            #(\"index\", \"$index\"),\n",
    "            (\"(x,y)\", \"($x{1.11}, $y)\"),\n",
    "        ]\n",
    "    )\n",
    "\n",
    "plot = figure(x_axis_label='MJD', y_axis_label='vrad(km/s)',title=\"Spectra\",\n",
    "              active_scroll='wheel_zoom',plot_width=900, plot_height=700)\n",
    "plot.add_tools(hover)\n",
    "plot.line('x','y',source=source)\n",
    "show(plot)"
   ]
  },
  {
   "cell_type": "code",
   "execution_count": 8,
   "metadata": {},
   "outputs": [
    {
     "data": {
      "image/png": "[encoded data removed]",
      "text/plain": [
       "<Figure size 432x288 with 1 Axes>"
      ]
     },
     "metadata": {
      "needs_background": "light"
     },
     "output_type": "display_data"
    },
    {
     "data": {
      "image/png": "[encoded data removed]",
      "text/plain": [
       "<Figure size 432x288 with 1 Axes>"
      ]
     },
     "metadata": {
      "needs_background": "light"
     },
     "output_type": "display_data"
    },
    {
     "data": {
      "image/png": "[encoded data removed]",
      "text/plain": [
       "<Figure size 432x288 with 1 Axes>"
      ]
     },
     "metadata": {
      "needs_background": "light"
     },
     "output_type": "display_data"
    },
    {
     "name": "stdout",
     "output_type": "stream",
     "text": [
      "Best_frequency: 68.87885454075101, Period: 0.014518243758080602 days, 20.90627101163607 Minutes\n"
     ]
    },
    {
     "data": {
      "image/png": "[encoded data removed]",
      "text/plain": [
       "<Figure size 432x288 with 1 Axes>"
      ]
     },
     "metadata": {
      "needs_background": "light"
     },
     "output_type": "display_data"
    }
   ],
   "source": [
    "mjd = t2.mjd\n",
    "\n",
    "mag = vrad\n",
    "\n",
    "\n",
    "\n",
    "freq, PLS = LombScargle(mjd, mag).autopower(minimum_frequency=1 / 1.,\n",
    "                                                maximum_frequency=1 / 0.01)\n",
    "\n",
    "\n",
    "best_freq = freq[np.argmax(PLS)]\n",
    "phase = (mjd * best_freq) % 1\n",
    "\n",
    "# compute the best-fit model\n",
    "phase_fit = np.linspace(0, 1,len(mjd))\n",
    "mag_fit = LombScargle(mjd, mag).model(t=phase_fit / best_freq,\n",
    "                                          frequency=best_freq)\n",
    "# plot the periodogram\n",
    "\n",
    "fig, ax = plt.subplots()\n",
    "\n",
    "plt.plot(1. / freq, PLS)\n",
    "ax.set(xlabel='period (days)',\n",
    "          ylabel='Lomb-Scargle Power',\n",
    "          ylim=(0, 1));\n",
    "plt.show()\n",
    "\n",
    "\n",
    "fig, ax = plt.subplots()\n",
    "\n",
    "# plot the raw data\n",
    "ax.errorbar(mjd, mag, fmt='ok', elinewidth=1.5, capsize=0)\n",
    "#ax.invert_yaxis()\n",
    "ax.set(   xlabel='Observation time (days)',\n",
    "          ylabel='RV')\n",
    "\n",
    "#plt.plot(t,mag_fit)\n",
    "\n",
    "\n",
    "\n",
    "fig, ax = plt.subplots()\n",
    "# plot the phased data & model in the inset\n",
    "plt.errorbar(phase, mag, fmt='.k', capsize=0)\n",
    "plt.plot(phase_fit, mag_fit)\n",
    "\n",
    "\n",
    "#ax.invert_yaxis()\n",
    "ax.set_xlabel('phase')\n",
    "ax.set_ylabel('RV')\n",
    "plt.show()\n",
    "\n",
    "\n",
    "#Two phases\n",
    "\n",
    "phase2 = phase-1\n",
    "phasesall= np.concatenate((phase2, phase), axis=None)\n",
    "magall = np.concatenate((mag,mag),axis=None)\n",
    "\n",
    "# compute the best-fit model\n",
    "phase_fit2 = np.linspace(-1, 1,len(mjd))\n",
    "mag_fit2 = LombScargle(mjd, mag).model(t=phase_fit2 / best_freq,\n",
    "                                          frequency=best_freq)\n",
    "\n",
    "\n",
    "fig, ax = plt.subplots()\n",
    "# plot the phased data & model in the inset\n",
    "plt.errorbar(phasesall, magall, fmt='.k', capsize=0);\n",
    "plt.plot(phase_fit2, mag_fit2);\n",
    "summary = 'Best_frequency: {}, Period: {} days, {} Minutes'.format(best_freq,1/best_freq,\n",
    "                                                                               1/best_freq*24*60.)\n",
    "print(summary)"
   ]
  },
  {
   "cell_type": "code",
   "execution_count": 9,
   "metadata": {},
   "outputs": [
    {
     "name": "stdout",
     "output_type": "stream",
     "text": [
      "Best_frequency: 68.87885454075101, Period: 0.014518243758080602 days, 20.90627101163607 Minutes\n"
     ]
    },
    {
     "data": {
      "text/html": [
       "\n",
       "\n",
       "\n",
       "\n",
       "\n",
       "\n",
       "  <div class=\"bk-root\" id=\"3812dff6-4cd5-4830-b4e4-8e99fdf4f3b2\"></div>\n"
      ]
     },
     "metadata": {},
     "output_type": "display_data"
    },
    {
     "data": {
      "application/javascript": [
       "(function(root) {\n",
       "  function embed_document(root) {\n",
       "    \n",
       "  var docs_json = {\"53cc7137-282c-4642-b6b5-8bbac84dca56\":{\"roots\":{\"references\":[{\"attributes\":{\"below\":[{\"id\":\"1113\",\"type\":\"LinearAxis\"}],\"left\":[{\"id\":\"1118\",\"type\":\"LinearAxis\"}],\"plot_height\":500,\"plot_width\":900,\"renderers\":[{\"id\":\"1113\",\"type\":\"LinearAxis\"},{\"id\":\"1117\",\"type\":\"Grid\"},{\"id\":\"1118\",\"type\":\"LinearAxis\"},{\"id\":\"1122\",\"type\":\"Grid\"},{\"id\":\"1131\",\"type\":\"BoxAnnotation\"},{\"id\":\"1181\",\"type\":\"GlyphRenderer\"}],\"title\":{\"id\":\"1102\",\"type\":\"Title\"},\"toolbar\":{\"id\":\"1129\",\"type\":\"Toolbar\"},\"x_range\":{\"id\":\"1105\",\"type\":\"DataRange1d\"},\"x_scale\":{\"id\":\"1109\",\"type\":\"LinearScale\"},\"y_range\":{\"id\":\"1107\",\"type\":\"DataRange1d\"},\"y_scale\":{\"id\":\"1111\",\"type\":\"LinearScale\"}},\"id\":\"1103\",\"subtype\":\"Figure\",\"type\":\"Plot\"},{\"attributes\":{},\"id\":\"1119\",\"type\":\"BasicTicker\"},{\"attributes\":{},\"id\":\"1198\",\"type\":\"BasicTickFormatter\"},{\"attributes\":{},\"id\":\"1201\",\"type\":\"Selection\"},{\"attributes\":{},\"id\":\"1109\",\"type\":\"LinearScale\"},{\"attributes\":{},\"id\":\"1202\",\"type\":\"UnionRenderers\"},{\"attributes\":{},\"id\":\"1123\",\"type\":\"PanTool\"},{\"attributes\":{},\"id\":\"1127\",\"type\":\"ResetTool\"},{\"attributes\":{},\"id\":\"1114\",\"type\":\"BasicTicker\"},{\"attributes\":{\"axis_label\":\"Period (days)\",\"formatter\":{\"id\":\"1200\",\"type\":\"BasicTickFormatter\"},\"plot\":{\"id\":\"1103\",\"subtype\":\"Figure\",\"type\":\"Plot\"},\"ticker\":{\"id\":\"1114\",\"type\":\"BasicTicker\"}},\"id\":\"1113\",\"type\":\"LinearAxis\"},{\"attributes\":{\"line_alpha\":0.1,\"line_color\":\"#1f77b4\",\"x\":{\"field\":\"period\"},\"y\":{\"field\":\"power\"}},\"id\":\"1180\",\"type\":\"Line\"},{\"attributes\":{\"overlay\":{\"id\":\"1131\",\"type\":\"BoxAnnotation\"}},\"id\":\"1125\",\"type\":\"BoxZoomTool\"},{\"attributes\":{\"line_color\":\"#1f77b4\",\"x\":{\"field\":\"period\"},\"y\":{\"field\":\"power\"}},\"id\":\"1179\",\"type\":\"Line\"},{\"attributes\":{},\"id\":\"1128\",\"type\":\"HelpTool\"},{\"attributes\":{\"axis_label\":\"Power\",\"formatter\":{\"id\":\"1198\",\"type\":\"BasicTickFormatter\"},\"plot\":{\"id\":\"1103\",\"subtype\":\"Figure\",\"type\":\"Plot\"},\"ticker\":{\"id\":\"1119\",\"type\":\"BasicTicker\"}},\"id\":\"1118\",\"type\":\"LinearAxis\"},{\"attributes\":{\"callback\":null},\"id\":\"1107\",\"type\":\"DataRange1d\"},{\"attributes\":{\"active_drag\":{\"id\":\"1123\",\"type\":\"PanTool\"},\"active_inspect\":\"auto\",\"active_multi\":null,\"active_scroll\":{\"id\":\"1124\",\"type\":\"WheelZoomTool\"},\"active_tap\":\"auto\",\"tools\":[{\"id\":\"1123\",\"type\":\"PanTool\"},{\"id\":\"1124\",\"type\":\"WheelZoomTool\"},{\"id\":\"1125\",\"type\":\"BoxZoomTool\"},{\"id\":\"1126\",\"type\":\"SaveTool\"},{\"id\":\"1127\",\"type\":\"ResetTool\"},{\"id\":\"1128\",\"type\":\"HelpTool\"},{\"id\":\"1175\",\"type\":\"HoverTool\"}]},\"id\":\"1129\",\"type\":\"Toolbar\"},{\"attributes\":{},\"id\":\"1124\",\"type\":\"WheelZoomTool\"},{\"attributes\":{},\"id\":\"1111\",\"type\":\"LinearScale\"},{\"attributes\":{\"source\":{\"id\":\"1174\",\"type\":\"ColumnDataSource\"}},\"id\":\"1182\",\"type\":\"CDSView\"},{\"attributes\":{\"plot\":{\"id\":\"1103\",\"subtype\":\"Figure\",\"type\":\"Plot\"},\"ticker\":{\"id\":\"1114\",\"type\":\"BasicTicker\"}},\"id\":\"1117\",\"type\":\"Grid\"},{\"attributes\":{},\"id\":\"1200\",\"type\":\"BasicTickFormatter\"},{\"attributes\":{},\"id\":\"1126\",\"type\":\"SaveTool\"},{\"attributes\":{\"plot\":null,\"text\":\"Best_frequency: 68.87885454075101, Period: 0.014518243758080602 days, 20.90627101163607 Minutes\"},\"id\":\"1102\",\"type\":\"Title\"},{\"attributes\":{\"callback\":null,\"data\":{\"freq\":{\"__ndarray__\":\"AAAAAAAA8D9rtNh12mQLQGu02HXaZBdAUIdi2KOLIEBrtNh12mQlQIbhThMRPipAoA7FsEcXL0DenR0nP/gxQGu02HXaZDRA+MqTxHXRNkCG4U4TET45QBP4CWKsqjtAoA7FsEcXPkCXEsB/8UFAQN6dHSc/eEFAJCl7zoyuQkBrtNh12uRDQLI/Nh0oG0VA+MqTxHVRRkA/VvFrw4dHQIbhThMRvkhAzGysul70SUAT+AlirCpLQFqDZwn6YExAoA7FsEeXTUDnmSJYlc1OQJcSwH/xAVBAOthuUxidUEDenR0nPzhRQIFjzPpl01FAJCl7zoxuUkDI7imiswlTQGu02HXapFNADnqHSQFAVECyPzYdKNtUQFUF5fBOdlVA+MqTxHURVkCckEKYnKxWQD9W8WvDR1dA4hugP+riV0CG4U4TEX5YQCmn/eY3GVlA\",\"dtype\":\"float64\",\"shape\":[42]},\"period\":{\"__ndarray__\":\"AAAAAAAA8D9cqCZjtLDSP0l/SWjQ4sU/g2a2Xu3xvj+aSfjllu63P7xgGO6ngrM/gG4QIMN3sD8cPTfyDH6sP/Exh10AG6k/9spHky9wpj9DuOX3hUikP/p6rKWJgaI/2+876dwDoT+0J4z0M36fP0HvJDXQTp0/v6YqRANomz+3+CNtiLyZP6CFIkYnQpg/+Sx8y9/wlj8gfUv5V8KVP6mZRm10sZQ/V4KN/w26kz/yQI1Gu9iSP4iyahGoCpI/8n8A2HZNkT9FOSViKZ+QP85XS3kd/I8/kzqAQmrRjj/qKhexvbuNP5X868DyuIw/FOhtoyzHiz/GQjtBy+SKP52VatxhEIo/iZpkYa9IiT/kybkOmIyIP31PJzAg24c/u3nkt2czhz/sn6GMppSGP07kSmsp/oU/FkRQQk9vhT9ZZmbxhueEP82OxFxNZoQ/\",\"dtype\":\"float64\",\"shape\":[42]},\"periodsec\":{\"__ndarray__\":\"AAAAAAAY9UD1drfQ9aPYQE/lfMGF2sxAE7wuOPllxEAK1S7wC42/QIgjZWTAuLlArqnFvuO1tUCI6akIF8iyQCzepn2MjLBAEiaruOaUrUBsWlGenL2qQCHk6vfGZahAt4R8vZdupkAsY3O/cMKkQLYYCL+zUaNAah0vJ9AQokAydvHtBvegQCqD9sY2+59ASjXECo8+nkB2BSn7tq+cQJWTEP7yR5tAVQ9pdMkBmkAfOYPlutiYQF4q9pIMyZdArajELaDPlkABE+QO1emVQCBqtG1wFZVAnAZWy4pQlECKBXxKgZmTQL+OqwTq7pJAu7K6rIpPkkBE0D/7ULqRQCBCC4JMLpFA3hBzm6mqkEDV97Q7rS6QQEzTe+9ic49Ae7bvPEWWjkBWFGeS+cSNQPw785qT/oxAwtHs/T5CjEDvf0BnPI+LQEQizf3e5IpA\",\"dtype\":\"float64\",\"shape\":[42]},\"power\":{\"__ndarray__\":\"+1vsONhbez/dOFS+Edt8P/OdPamtY4E/5t6E5VQmij+YmgTbwDiXPxjkVzBVoKM/cNu8LXDPrD/wPfCKFU20P6rWSY2Bu7g/Pka7QdJIxD9FGkX1mgnSP4fxpAoBBtY/4cwLz/hN0j+Jm82ek3HGPybOHYoM1rA/You/kQa6iz/VSrGAQd6fPxClP/uhXqo/I2//z5W1pT+643eJj5yYP2yhk4VSuKs/WSHCvcBuwT+SgT5/ImnJP3DOYJu+Wss/bESnLoAryD/GoxPWrLrHP4nATgFu0dE/Sl/xI3YZ2T8zsxCIORnbP8p7uUSxftc/7Vs0KO4izz8HOqu3hdi/P7tOnCRw7LI/Vv5bisuusz8xlpKv9OW3P28kVxuEQro/YNJNd3GfuD+kKM1GN7OzP/u9OtfuhKg/fbBGbfdSij8ekg8l97VJP7P225di/JQ/\",\"dtype\":\"float64\",\"shape\":[42]}},\"selected\":{\"id\":\"1201\",\"type\":\"Selection\"},\"selection_policy\":{\"id\":\"1202\",\"type\":\"UnionRenderers\"}},\"id\":\"1174\",\"type\":\"ColumnDataSource\"},{\"attributes\":{\"bottom_units\":\"screen\",\"fill_alpha\":{\"value\":0.5},\"fill_color\":{\"value\":\"lightgrey\"},\"left_units\":\"screen\",\"level\":\"overlay\",\"line_alpha\":{\"value\":1.0},\"line_color\":{\"value\":\"black\"},\"line_dash\":[4,4],\"line_width\":{\"value\":2},\"plot\":null,\"render_mode\":\"css\",\"right_units\":\"screen\",\"top_units\":\"screen\"},\"id\":\"1131\",\"type\":\"BoxAnnotation\"},{\"attributes\":{\"callback\":null},\"id\":\"1105\",\"type\":\"DataRange1d\"},{\"attributes\":{\"callback\":null,\"tooltips\":[[\"Period\",\"(@period{0.0000000}\"],[\"Frequency\",\"(@freq{0.00000})\"],[\"PeriodSec\",\"(@periodsec{0.0000000}\"]]},\"id\":\"1175\",\"type\":\"HoverTool\"},{\"attributes\":{\"dimension\":1,\"plot\":{\"id\":\"1103\",\"subtype\":\"Figure\",\"type\":\"Plot\"},\"ticker\":{\"id\":\"1119\",\"type\":\"BasicTicker\"}},\"id\":\"1122\",\"type\":\"Grid\"},{\"attributes\":{\"data_source\":{\"id\":\"1174\",\"type\":\"ColumnDataSource\"},\"glyph\":{\"id\":\"1179\",\"type\":\"Line\"},\"hover_glyph\":null,\"muted_glyph\":null,\"nonselection_glyph\":{\"id\":\"1180\",\"type\":\"Line\"},\"selection_glyph\":null,\"view\":{\"id\":\"1182\",\"type\":\"CDSView\"}},\"id\":\"1181\",\"type\":\"GlyphRenderer\"}],\"root_ids\":[\"1103\"]},\"title\":\"Bokeh Application\",\"version\":\"1.0.2\"}};\n",
       "  var render_items = [{\"docid\":\"53cc7137-282c-4642-b6b5-8bbac84dca56\",\"roots\":{\"1103\":\"3812dff6-4cd5-4830-b4e4-8e99fdf4f3b2\"}}];\n",
       "  root.Bokeh.embed.embed_items_notebook(docs_json, render_items);\n",
       "\n",
       "  }\n",
       "  if (root.Bokeh !== undefined) {\n",
       "    embed_document(root);\n",
       "  } else {\n",
       "    var attempts = 0;\n",
       "    var timer = setInterval(function(root) {\n",
       "      if (root.Bokeh !== undefined) {\n",
       "        embed_document(root);\n",
       "        clearInterval(timer);\n",
       "      }\n",
       "      attempts++;\n",
       "      if (attempts > 100) {\n",
       "        console.log(\"Bokeh: ERROR: Unable to run BokehJS code because BokehJS library is missing\");\n",
       "        clearInterval(timer);\n",
       "      }\n",
       "    }, 10, root)\n",
       "  }\n",
       "})(window);"
      ],
      "application/vnd.bokehjs_exec.v0+json": ""
     },
     "metadata": {
      "application/vnd.bokehjs_exec.v0+json": {
       "id": "1103"
      }
     },
     "output_type": "display_data"
    },
    {
     "data": {
      "text/html": [
       "\n",
       "\n",
       "\n",
       "\n",
       "\n",
       "\n",
       "  <div class=\"bk-root\" id=\"9113f85d-0212-420f-985f-61899ba017be\"></div>\n"
      ]
     },
     "metadata": {},
     "output_type": "display_data"
    },
    {
     "data": {
      "application/javascript": [
       "(function(root) {\n",
       "  function embed_document(root) {\n",
       "    \n",
       "  var docs_json = {\"e8b661f5-81d7-4ff4-b77d-1b56678b413d\":{\"roots\":{\"references\":[{\"attributes\":{\"below\":[{\"id\":\"1149\",\"type\":\"LinearAxis\"}],\"left\":[{\"id\":\"1154\",\"type\":\"LinearAxis\"}],\"plot_height\":500,\"plot_width\":900,\"renderers\":[{\"id\":\"1149\",\"type\":\"LinearAxis\"},{\"id\":\"1153\",\"type\":\"Grid\"},{\"id\":\"1154\",\"type\":\"LinearAxis\"},{\"id\":\"1158\",\"type\":\"Grid\"},{\"id\":\"1167\",\"type\":\"BoxAnnotation\"},{\"id\":\"1186\",\"type\":\"GlyphRenderer\"}],\"title\":{\"id\":\"1138\",\"type\":\"Title\"},\"toolbar\":{\"id\":\"1165\",\"type\":\"Toolbar\"},\"x_range\":{\"id\":\"1141\",\"type\":\"DataRange1d\"},\"x_scale\":{\"id\":\"1145\",\"type\":\"LinearScale\"},\"y_range\":{\"id\":\"1143\",\"type\":\"DataRange1d\"},\"y_scale\":{\"id\":\"1147\",\"type\":\"LinearScale\"}},\"id\":\"1139\",\"subtype\":\"Figure\",\"type\":\"Plot\"},{\"attributes\":{},\"id\":\"1147\",\"type\":\"LinearScale\"},{\"attributes\":{},\"id\":\"1150\",\"type\":\"BasicTicker\"},{\"attributes\":{},\"id\":\"1162\",\"type\":\"SaveTool\"},{\"attributes\":{\"plot\":{\"id\":\"1139\",\"subtype\":\"Figure\",\"type\":\"Plot\"},\"ticker\":{\"id\":\"1150\",\"type\":\"BasicTicker\"}},\"id\":\"1153\",\"type\":\"Grid\"},{\"attributes\":{},\"id\":\"1272\",\"type\":\"BasicTickFormatter\"},{\"attributes\":{\"overlay\":{\"id\":\"1167\",\"type\":\"BoxAnnotation\"}},\"id\":\"1161\",\"type\":\"BoxZoomTool\"},{\"attributes\":{\"axis_label\":\"Power\",\"formatter\":{\"id\":\"1270\",\"type\":\"BasicTickFormatter\"},\"plot\":{\"id\":\"1139\",\"subtype\":\"Figure\",\"type\":\"Plot\"},\"ticker\":{\"id\":\"1155\",\"type\":\"BasicTicker\"}},\"id\":\"1154\",\"type\":\"LinearAxis\"},{\"attributes\":{\"callback\":null},\"id\":\"1143\",\"type\":\"DataRange1d\"},{\"attributes\":{},\"id\":\"1163\",\"type\":\"ResetTool\"},{\"attributes\":{},\"id\":\"1201\",\"type\":\"Selection\"},{\"attributes\":{\"bottom_units\":\"screen\",\"fill_alpha\":{\"value\":0.5},\"fill_color\":{\"value\":\"lightgrey\"},\"left_units\":\"screen\",\"level\":\"overlay\",\"line_alpha\":{\"value\":1.0},\"line_color\":{\"value\":\"black\"},\"line_dash\":[4,4],\"line_width\":{\"value\":2},\"plot\":null,\"render_mode\":\"css\",\"right_units\":\"screen\",\"top_units\":\"screen\"},\"id\":\"1167\",\"type\":\"BoxAnnotation\"},{\"attributes\":{},\"id\":\"1202\",\"type\":\"UnionRenderers\"},{\"attributes\":{\"callback\":null},\"id\":\"1141\",\"type\":\"DataRange1d\"},{\"attributes\":{},\"id\":\"1164\",\"type\":\"HelpTool\"},{\"attributes\":{\"plot\":null,\"text\":\"\"},\"id\":\"1138\",\"type\":\"Title\"},{\"attributes\":{\"line_alpha\":0.1,\"line_color\":\"#1f77b4\",\"x\":{\"field\":\"freq\"},\"y\":{\"field\":\"power\"}},\"id\":\"1185\",\"type\":\"Line\"},{\"attributes\":{\"source\":{\"id\":\"1174\",\"type\":\"ColumnDataSource\"}},\"id\":\"1187\",\"type\":\"CDSView\"},{\"attributes\":{},\"id\":\"1160\",\"type\":\"WheelZoomTool\"},{\"attributes\":{},\"id\":\"1145\",\"type\":\"LinearScale\"},{\"attributes\":{\"axis_label\":\"Freq (1/days)\",\"formatter\":{\"id\":\"1272\",\"type\":\"BasicTickFormatter\"},\"plot\":{\"id\":\"1139\",\"subtype\":\"Figure\",\"type\":\"Plot\"},\"ticker\":{\"id\":\"1150\",\"type\":\"BasicTicker\"}},\"id\":\"1149\",\"type\":\"LinearAxis\"},{\"attributes\":{},\"id\":\"1270\",\"type\":\"BasicTickFormatter\"},{\"attributes\":{},\"id\":\"1159\",\"type\":\"PanTool\"},{\"attributes\":{\"data_source\":{\"id\":\"1174\",\"type\":\"ColumnDataSource\"},\"glyph\":{\"id\":\"1184\",\"type\":\"Line\"},\"hover_glyph\":null,\"muted_glyph\":null,\"nonselection_glyph\":{\"id\":\"1185\",\"type\":\"Line\"},\"selection_glyph\":null,\"view\":{\"id\":\"1187\",\"type\":\"CDSView\"}},\"id\":\"1186\",\"type\":\"GlyphRenderer\"},{\"attributes\":{\"callback\":null,\"data\":{\"freq\":{\"__ndarray__\":\"AAAAAAAA8D9rtNh12mQLQGu02HXaZBdAUIdi2KOLIEBrtNh12mQlQIbhThMRPipAoA7FsEcXL0DenR0nP/gxQGu02HXaZDRA+MqTxHXRNkCG4U4TET45QBP4CWKsqjtAoA7FsEcXPkCXEsB/8UFAQN6dHSc/eEFAJCl7zoyuQkBrtNh12uRDQLI/Nh0oG0VA+MqTxHVRRkA/VvFrw4dHQIbhThMRvkhAzGysul70SUAT+AlirCpLQFqDZwn6YExAoA7FsEeXTUDnmSJYlc1OQJcSwH/xAVBAOthuUxidUEDenR0nPzhRQIFjzPpl01FAJCl7zoxuUkDI7imiswlTQGu02HXapFNADnqHSQFAVECyPzYdKNtUQFUF5fBOdlVA+MqTxHURVkCckEKYnKxWQD9W8WvDR1dA4hugP+riV0CG4U4TEX5YQCmn/eY3GVlA\",\"dtype\":\"float64\",\"shape\":[42]},\"period\":{\"__ndarray__\":\"AAAAAAAA8D9cqCZjtLDSP0l/SWjQ4sU/g2a2Xu3xvj+aSfjllu63P7xgGO6ngrM/gG4QIMN3sD8cPTfyDH6sP/Exh10AG6k/9spHky9wpj9DuOX3hUikP/p6rKWJgaI/2+876dwDoT+0J4z0M36fP0HvJDXQTp0/v6YqRANomz+3+CNtiLyZP6CFIkYnQpg/+Sx8y9/wlj8gfUv5V8KVP6mZRm10sZQ/V4KN/w26kz/yQI1Gu9iSP4iyahGoCpI/8n8A2HZNkT9FOSViKZ+QP85XS3kd/I8/kzqAQmrRjj/qKhexvbuNP5X868DyuIw/FOhtoyzHiz/GQjtBy+SKP52VatxhEIo/iZpkYa9IiT/kybkOmIyIP31PJzAg24c/u3nkt2czhz/sn6GMppSGP07kSmsp/oU/FkRQQk9vhT9ZZmbxhueEP82OxFxNZoQ/\",\"dtype\":\"float64\",\"shape\":[42]},\"periodsec\":{\"__ndarray__\":\"AAAAAAAY9UD1drfQ9aPYQE/lfMGF2sxAE7wuOPllxEAK1S7wC42/QIgjZWTAuLlArqnFvuO1tUCI6akIF8iyQCzepn2MjLBAEiaruOaUrUBsWlGenL2qQCHk6vfGZahAt4R8vZdupkAsY3O/cMKkQLYYCL+zUaNAah0vJ9AQokAydvHtBvegQCqD9sY2+59ASjXECo8+nkB2BSn7tq+cQJWTEP7yR5tAVQ9pdMkBmkAfOYPlutiYQF4q9pIMyZdArajELaDPlkABE+QO1emVQCBqtG1wFZVAnAZWy4pQlECKBXxKgZmTQL+OqwTq7pJAu7K6rIpPkkBE0D/7ULqRQCBCC4JMLpFA3hBzm6mqkEDV97Q7rS6QQEzTe+9ic49Ae7bvPEWWjkBWFGeS+cSNQPw785qT/oxAwtHs/T5CjEDvf0BnPI+LQEQizf3e5IpA\",\"dtype\":\"float64\",\"shape\":[42]},\"power\":{\"__ndarray__\":\"+1vsONhbez/dOFS+Edt8P/OdPamtY4E/5t6E5VQmij+YmgTbwDiXPxjkVzBVoKM/cNu8LXDPrD/wPfCKFU20P6rWSY2Bu7g/Pka7QdJIxD9FGkX1mgnSP4fxpAoBBtY/4cwLz/hN0j+Jm82ek3HGPybOHYoM1rA/You/kQa6iz/VSrGAQd6fPxClP/uhXqo/I2//z5W1pT+643eJj5yYP2yhk4VSuKs/WSHCvcBuwT+SgT5/ImnJP3DOYJu+Wss/bESnLoAryD/GoxPWrLrHP4nATgFu0dE/Sl/xI3YZ2T8zsxCIORnbP8p7uUSxftc/7Vs0KO4izz8HOqu3hdi/P7tOnCRw7LI/Vv5bisuusz8xlpKv9OW3P28kVxuEQro/YNJNd3GfuD+kKM1GN7OzP/u9OtfuhKg/fbBGbfdSij8ekg8l97VJP7P225di/JQ/\",\"dtype\":\"float64\",\"shape\":[42]}},\"selected\":{\"id\":\"1201\",\"type\":\"Selection\"},\"selection_policy\":{\"id\":\"1202\",\"type\":\"UnionRenderers\"}},\"id\":\"1174\",\"type\":\"ColumnDataSource\"},{\"attributes\":{\"active_drag\":{\"id\":\"1159\",\"type\":\"PanTool\"},\"active_inspect\":\"auto\",\"active_multi\":null,\"active_scroll\":{\"id\":\"1160\",\"type\":\"WheelZoomTool\"},\"active_tap\":\"auto\",\"tools\":[{\"id\":\"1159\",\"type\":\"PanTool\"},{\"id\":\"1160\",\"type\":\"WheelZoomTool\"},{\"id\":\"1161\",\"type\":\"BoxZoomTool\"},{\"id\":\"1162\",\"type\":\"SaveTool\"},{\"id\":\"1163\",\"type\":\"ResetTool\"},{\"id\":\"1164\",\"type\":\"HelpTool\"},{\"id\":\"1175\",\"type\":\"HoverTool\"}]},\"id\":\"1165\",\"type\":\"Toolbar\"},{\"attributes\":{\"line_color\":\"#1f77b4\",\"x\":{\"field\":\"freq\"},\"y\":{\"field\":\"power\"}},\"id\":\"1184\",\"type\":\"Line\"},{\"attributes\":{\"callback\":null,\"tooltips\":[[\"Period\",\"(@period{0.0000000}\"],[\"Frequency\",\"(@freq{0.00000})\"],[\"PeriodSec\",\"(@periodsec{0.0000000}\"]]},\"id\":\"1175\",\"type\":\"HoverTool\"},{\"attributes\":{\"dimension\":1,\"plot\":{\"id\":\"1139\",\"subtype\":\"Figure\",\"type\":\"Plot\"},\"ticker\":{\"id\":\"1155\",\"type\":\"BasicTicker\"}},\"id\":\"1158\",\"type\":\"Grid\"},{\"attributes\":{},\"id\":\"1155\",\"type\":\"BasicTicker\"}],\"root_ids\":[\"1139\"]},\"title\":\"Bokeh Application\",\"version\":\"1.0.2\"}};\n",
       "  var render_items = [{\"docid\":\"e8b661f5-81d7-4ff4-b77d-1b56678b413d\",\"roots\":{\"1139\":\"9113f85d-0212-420f-985f-61899ba017be\"}}];\n",
       "  root.Bokeh.embed.embed_items_notebook(docs_json, render_items);\n",
       "\n",
       "  }\n",
       "  if (root.Bokeh !== undefined) {\n",
       "    embed_document(root);\n",
       "  } else {\n",
       "    var attempts = 0;\n",
       "    var timer = setInterval(function(root) {\n",
       "      if (root.Bokeh !== undefined) {\n",
       "        embed_document(root);\n",
       "        clearInterval(timer);\n",
       "      }\n",
       "      attempts++;\n",
       "      if (attempts > 100) {\n",
       "        console.log(\"Bokeh: ERROR: Unable to run BokehJS code because BokehJS library is missing\");\n",
       "        clearInterval(timer);\n",
       "      }\n",
       "    }, 10, root)\n",
       "  }\n",
       "})(window);"
      ],
      "application/vnd.bokehjs_exec.v0+json": ""
     },
     "metadata": {
      "application/vnd.bokehjs_exec.v0+json": {
       "id": "1139"
      }
     },
     "output_type": "display_data"
    }
   ],
   "source": [
    "\n",
    "\n",
    "freq, PLS = LombScargle(mjd, mag).autopower(minimum_frequency=1 / 1.,\n",
    "                                                maximum_frequency=1 / 0.01)\n",
    "\n",
    "best_freq = freq[np.argmax(PLS)]\n",
    "\n",
    "summary = 'Best_frequency: {}, Period: {} days'.format(best_freq,1/best_freq)\n",
    "\n",
    "\n",
    "summary = 'Best_frequency: {}, Period: {} days, {} Minutes'.format(best_freq,1/best_freq,\n",
    "                                                                               1/best_freq*24*60.)\n",
    "sumseconds = '{} Seconds'.format( 1/best_freq*24*60.*60.)\n",
    "#p.add_layout(Title(text=sumseconds, text_font_size=\"10pt\"), 'above')\n",
    "\n",
    "\n",
    "print(summary)\n",
    "p1 = figure(plot_width=900, plot_height=500, title=summary,active_drag='pan', active_scroll='wheel_zoom',y_axis_label='Power',x_axis_label='Period (days)')\n",
    "p2 = figure(plot_width=900, plot_height=500, title='',active_drag='pan', active_scroll='wheel_zoom',y_axis_label='Power',x_axis_label='Freq (1/days)')\n",
    "\n",
    "\n",
    "#source1 = ColumnDataSource(data={'power':PLS,\n",
    "#                              'period': 1./freq})\n",
    "\n",
    "period = 1./freq\n",
    "periodsec =period*24.*60.*60.\n",
    "source1 = ColumnDataSource(data={'power':PLS,\n",
    "                              'period':1./freq,\n",
    "                                 'periodsec':periodsec,\n",
    "                                'freq':freq})\n",
    "\n",
    "#Tool to get wavelength\n",
    "hover1 = HoverTool(\n",
    "        tooltips=[\n",
    "            ('Period', '(@period{0.0000000}'),\n",
    "            ('Frequency', '(@freq{0.00000})'),\n",
    "             ('PeriodSec', '(@periodsec{0.0000000}'),\n",
    "        ]\n",
    "    )\n",
    "\n",
    "\n",
    "p1.add_tools(hover1)\n",
    "p2.add_tools(hover1)\n",
    "\n",
    "\n",
    "\n",
    "# add a circle renderer with a size, color, and alpha\n",
    "\n",
    "p1.line('period','power',source=source1)\n",
    "p2.line('freq','power',source=source1)\n",
    "\n",
    "show(p1)\n",
    "show(p2)"
   ]
  },
  {
   "cell_type": "code",
   "execution_count": 10,
   "metadata": {},
   "outputs": [
    {
     "data": {
      "text/html": [
       "\n",
       "\n",
       "\n",
       "\n",
       "\n",
       "\n",
       "  <div class=\"bk-root\" id=\"1a44e88f-ac86-4a3b-8f73-6e084b318cbd\"></div>\n"
      ]
     },
     "metadata": {},
     "output_type": "display_data"
    },
    {
     "data": {
      "application/javascript": [
       "(function(root) {\n",
       "  function embed_document(root) {\n",
       "    \n",
       "  var docs_json = {\"be4f7c66-1211-421e-abe2-aac06dabc731\":{\"roots\":{\"references\":[{\"attributes\":{\"above\":[{\"id\":\"1360\",\"type\":\"Title\"}],\"below\":[{\"id\":\"1335\",\"type\":\"LinearAxis\"}],\"left\":[{\"id\":\"1340\",\"type\":\"LinearAxis\"}],\"plot_height\":500,\"plot_width\":900,\"renderers\":[{\"id\":\"1335\",\"type\":\"LinearAxis\"},{\"id\":\"1339\",\"type\":\"Grid\"},{\"id\":\"1340\",\"type\":\"LinearAxis\"},{\"id\":\"1344\",\"type\":\"Grid\"},{\"id\":\"1353\",\"type\":\"BoxAnnotation\"},{\"id\":\"1360\",\"type\":\"Title\"},{\"id\":\"1367\",\"type\":\"GlyphRenderer\"},{\"id\":\"1374\",\"type\":\"GlyphRenderer\"},{\"id\":\"1370\",\"type\":\"ColorBar\"}],\"right\":[{\"id\":\"1370\",\"type\":\"ColorBar\"}],\"title\":{\"id\":\"1324\",\"type\":\"Title\"},\"toolbar\":{\"id\":\"1351\",\"type\":\"Toolbar\"},\"x_range\":{\"id\":\"1327\",\"type\":\"DataRange1d\"},\"x_scale\":{\"id\":\"1331\",\"type\":\"LinearScale\"},\"y_range\":{\"id\":\"1329\",\"type\":\"DataRange1d\"},\"y_scale\":{\"id\":\"1333\",\"type\":\"LinearScale\"}},\"id\":\"1325\",\"subtype\":\"Figure\",\"type\":\"Plot\"},{\"attributes\":{},\"id\":\"1350\",\"type\":\"HelpTool\"},{\"attributes\":{},\"id\":\"1405\",\"type\":\"BasicTicker\"},{\"attributes\":{},\"id\":\"1336\",\"type\":\"BasicTicker\"},{\"attributes\":{},\"id\":\"1404\",\"type\":\"BasicTickFormatter\"},{\"attributes\":{\"axis_label\":\"Phase\",\"formatter\":{\"id\":\"1404\",\"type\":\"BasicTickFormatter\"},\"plot\":{\"id\":\"1325\",\"subtype\":\"Figure\",\"type\":\"Plot\"},\"ticker\":{\"id\":\"1336\",\"type\":\"BasicTicker\"}},\"id\":\"1335\",\"type\":\"LinearAxis\"},{\"attributes\":{},\"id\":\"1402\",\"type\":\"BasicTickFormatter\"},{\"attributes\":{\"plot\":{\"id\":\"1325\",\"subtype\":\"Figure\",\"type\":\"Plot\"},\"ticker\":{\"id\":\"1336\",\"type\":\"BasicTicker\"}},\"id\":\"1339\",\"type\":\"Grid\"},{\"attributes\":{},\"id\":\"1406\",\"type\":\"BasicTickFormatter\"},{\"attributes\":{},\"id\":\"1331\",\"type\":\"LinearScale\"},{\"attributes\":{\"bottom_units\":\"screen\",\"fill_alpha\":{\"value\":0.5},\"fill_color\":{\"value\":\"lightgrey\"},\"left_units\":\"screen\",\"level\":\"overlay\",\"line_alpha\":{\"value\":1.0},\"line_color\":{\"value\":\"black\"},\"line_dash\":[4,4],\"line_width\":{\"value\":2},\"plot\":null,\"render_mode\":\"css\",\"right_units\":\"screen\",\"top_units\":\"screen\"},\"id\":\"1353\",\"type\":\"BoxAnnotation\"},{\"attributes\":{\"callback\":null,\"data\":{\"x\":{\"__ndarray__\":\"AAAAAAAA8L88PDw8PDzsv3h4eHh4eOi/tbS0tLS05L/x8PDw8PDgv1paWlpaWtq/1NLS0tLS0r+YlpaWlpbGvyAeHh4eHq6/IB4eHh4erj+YlpaWlpbGP9TS0tLS0tI/WFpaWlpa2j/w8PDw8PDgP7S0tLS0tOQ/eHh4eHh46D88PDw8PDzsPwAAAAAAAPA/\",\"dtype\":\"float64\",\"shape\":[18]},\"y\":{\"__ndarray__\":\"bXBJnNtIAEBEzAQR5OLqP65bJqM5kvo/SEN9anJGEEAesRjj4TobQIZxxqf/5CBAlhTYbqlDIEB6nIiZShsYQFJdnCaf1glACi/fq1A58z+WxPKk+AHwP/JXFsZ92gVADlWe7j33FUCY0GCqXFsfQLlJqFhZGSFAWLnH9pcBHUAQ5bBK0X0SQHBwSZzbSABA\",\"dtype\":\"float64\",\"shape\":[18]}},\"selected\":{\"id\":\"1407\",\"type\":\"Selection\"},\"selection_policy\":{\"id\":\"1408\",\"type\":\"UnionRenderers\"}},\"id\":\"1364\",\"type\":\"ColumnDataSource\"},{\"attributes\":{},\"id\":\"1407\",\"type\":\"Selection\"},{\"attributes\":{\"axis_label\":\"flux\",\"formatter\":{\"id\":\"1402\",\"type\":\"BasicTickFormatter\"},\"plot\":{\"id\":\"1325\",\"subtype\":\"Figure\",\"type\":\"Plot\"},\"ticker\":{\"id\":\"1341\",\"type\":\"BasicTicker\"}},\"id\":\"1340\",\"type\":\"LinearAxis\"},{\"attributes\":{\"line_alpha\":0.1,\"line_color\":\"#1f77b4\",\"x\":{\"field\":\"x\"},\"y\":{\"field\":\"y\"}},\"id\":\"1366\",\"type\":\"Line\"},{\"attributes\":{\"callback\":null,\"data\":{\"flux\":{\"__ndarray__\":\"AAAAAAAAAADFILByaJHxPwAAAAAAACVAvHSTGARWKUAAAAAAAAASQFK4HoXrUdg/9ihcj8L1JkBxPQrXo3DlP+xRuB6F6wvArkfhehSuFEApXI/C9SgfQCcxCKwcWg9AMzMzMzMzFEBmZmZmZmYCQNejcD0K1w9APQrXo3A9DEDD9Shcj8IJQDMzMzMzMyJAAAAAAAAAAADFILByaJHxPwAAAAAAACVAvHSTGARWKUAAAAAAAAASQFK4HoXrUdg/9ihcj8L1JkBxPQrXo3DlP+xRuB6F6wvArkfhehSuFEApXI/C9SgfQCcxCKwcWg9AMzMzMzMzFEBmZmZmZmYCQNejcD0K1w9APQrXo3A9DEDD9Shcj8IJQDMzMzMzMyJA\",\"dtype\":\"float64\",\"shape\":[36]},\"mjd\":{\"__ndarray__\":\"mEMWwijk60DMxWjkKOTrQCSGuwYp5OtAIU4mKSnk60B2sZFLKeTrQJhg/G0p5OtAlShnkCnk60DsNNKyKeTrQEP1JNUp5OtAcwIPUyrk60CnhGF1KuTrQP9EtJcq5OtA6JA3uirk60BTzXHcKuTrQODqxP4q5OtAAk4XISvk60D8w4JDK+TrQFYi7WUr5OtAmEMWwijk60DMxWjkKOTrQCSGuwYp5OtAIU4mKSnk60B2sZFLKeTrQJhg/G0p5OtAlShnkCnk60DsNNKyKeTrQEP1JNUp5OtAcwIPUyrk60CnhGF1KuTrQP9EtJcq5OtA6JA3uirk60BTzXHcKuTrQODqxP4q5OtAAk4XISvk60D8w4JDK+TrQFYi7WUr5OtA\",\"dtype\":\"float64\",\"shape\":[36]},\"phase\":{\"__ndarray__\":\"AAAA6pMhub8AAIDXHejpvwAAQHn4q+C/AAAA1G+lzb8AAMCklSbuvwAAgND/4+S/AAAAmMZC178AAAAeo/WyvwAAAAaPIum/AABAerpB578AAICoSwvcvwAAANkBJsO/AACAW0uA678AAACUvkrivwAAAEQAHdK/AAAA2HPS778AAMCDqI/mvwAAANdQmtq/AADAgs3b7D8AAACiiF/IPwAAgA0PqN4/AAAAC6SW6D8AAAC0pZatPwAAAF8AONY/AAAAtJxe5D8AAECcS6HtPwAAAOjDdcs/AACAC4t80T8AAMArWvrhPwAAwIl/Nus/AAAAktL+wT8AAADYgmrbPwAAAN5/8eY/AAAAABTGdj8AAID4ruDSPwAAgJTXsuI/\",\"dtype\":\"float64\",\"shape\":[36]}},\"selected\":{\"id\":\"1409\",\"type\":\"Selection\"},\"selection_policy\":{\"id\":\"1410\",\"type\":\"UnionRenderers\"}},\"id\":\"1361\",\"type\":\"ColumnDataSource\"},{\"attributes\":{},\"id\":\"1408\",\"type\":\"UnionRenderers\"},{\"attributes\":{\"plot\":{\"id\":\"1325\",\"subtype\":\"Figure\",\"type\":\"Plot\"},\"text\":\"1254.376260698164 Seconds\",\"text_font_size\":{\"value\":\"10pt\"}},\"id\":\"1360\",\"type\":\"Title\"},{\"attributes\":{\"active_drag\":{\"id\":\"1345\",\"type\":\"PanTool\"},\"active_inspect\":\"auto\",\"active_multi\":null,\"active_scroll\":{\"id\":\"1346\",\"type\":\"WheelZoomTool\"},\"active_tap\":\"auto\",\"tools\":[{\"id\":\"1345\",\"type\":\"PanTool\"},{\"id\":\"1346\",\"type\":\"WheelZoomTool\"},{\"id\":\"1347\",\"type\":\"BoxZoomTool\"},{\"id\":\"1348\",\"type\":\"SaveTool\"},{\"id\":\"1349\",\"type\":\"ResetTool\"},{\"id\":\"1350\",\"type\":\"HelpTool\"},{\"id\":\"1362\",\"type\":\"HoverTool\"}]},\"id\":\"1351\",\"type\":\"Toolbar\"},{\"attributes\":{\"line_color\":\"red\",\"x\":{\"field\":\"x\"},\"y\":{\"field\":\"y\"}},\"id\":\"1365\",\"type\":\"Line\"},{\"attributes\":{},\"id\":\"1409\",\"type\":\"Selection\"},{\"attributes\":{\"dimension\":1,\"plot\":{\"id\":\"1325\",\"subtype\":\"Figure\",\"type\":\"Plot\"},\"ticker\":{\"id\":\"1341\",\"type\":\"BasicTicker\"}},\"id\":\"1344\",\"type\":\"Grid\"},{\"attributes\":{\"source\":{\"id\":\"1364\",\"type\":\"ColumnDataSource\"}},\"id\":\"1368\",\"type\":\"CDSView\"},{\"attributes\":{\"callback\":null,\"tooltips\":[[\"Date\",\"(@mjd{0.0000})\"]]},\"id\":\"1362\",\"type\":\"HoverTool\"},{\"attributes\":{},\"id\":\"1341\",\"type\":\"BasicTicker\"},{\"attributes\":{\"data_source\":{\"id\":\"1364\",\"type\":\"ColumnDataSource\"},\"glyph\":{\"id\":\"1365\",\"type\":\"Line\"},\"hover_glyph\":null,\"muted_glyph\":null,\"nonselection_glyph\":{\"id\":\"1366\",\"type\":\"Line\"},\"selection_glyph\":null,\"view\":{\"id\":\"1368\",\"type\":\"CDSView\"}},\"id\":\"1367\",\"type\":\"GlyphRenderer\"},{\"attributes\":{},\"id\":\"1410\",\"type\":\"UnionRenderers\"},{\"attributes\":{\"plot\":null,\"text\":\"Best_frequency: 68.87885454075101, Period: 0.014518243758080602 days, 20.90627101163607 Minutes\"},\"id\":\"1324\",\"type\":\"Title\"},{\"attributes\":{\"high\":57121.356192175925,\"low\":57121.273692256946,\"palette\":[\"#440154\",\"#471669\",\"#472A79\",\"#433C84\",\"#3C4D8A\",\"#355D8C\",\"#2E6C8E\",\"#287A8E\",\"#23898D\",\"#1E978A\",\"#20A585\",\"#2EB27C\",\"#45BF6F\",\"#64CB5D\",\"#88D547\",\"#AFDC2E\",\"#D7E219\",\"#FDE724\"]},\"id\":\"1369\",\"type\":\"LinearColorMapper\"},{\"attributes\":{\"color_mapper\":{\"id\":\"1369\",\"type\":\"LinearColorMapper\"},\"formatter\":{\"id\":\"1406\",\"type\":\"BasicTickFormatter\"},\"location\":[0,0.5],\"plot\":{\"id\":\"1325\",\"subtype\":\"Figure\",\"type\":\"Plot\"},\"ticker\":{\"id\":\"1405\",\"type\":\"BasicTicker\"},\"title\":\"MJD\"},\"id\":\"1370\",\"type\":\"ColorBar\"},{\"attributes\":{\"callback\":null},\"id\":\"1329\",\"type\":\"DataRange1d\"},{\"attributes\":{},\"id\":\"1345\",\"type\":\"PanTool\"},{\"attributes\":{\"fill_color\":{\"field\":\"mjd\",\"transform\":{\"id\":\"1369\",\"type\":\"LinearColorMapper\"}},\"line_color\":{\"field\":\"mjd\",\"transform\":{\"id\":\"1369\",\"type\":\"LinearColorMapper\"}},\"x\":{\"field\":\"phase\"},\"y\":{\"field\":\"flux\"}},\"id\":\"1372\",\"type\":\"Circle\"},{\"attributes\":{},\"id\":\"1346\",\"type\":\"WheelZoomTool\"},{\"attributes\":{},\"id\":\"1333\",\"type\":\"LinearScale\"},{\"attributes\":{\"fill_alpha\":{\"value\":0.1},\"fill_color\":{\"value\":\"#1f77b4\"},\"line_alpha\":{\"value\":0.1},\"line_color\":{\"value\":\"#1f77b4\"},\"x\":{\"field\":\"phase\"},\"y\":{\"field\":\"flux\"}},\"id\":\"1373\",\"type\":\"Circle\"},{\"attributes\":{\"overlay\":{\"id\":\"1353\",\"type\":\"BoxAnnotation\"}},\"id\":\"1347\",\"type\":\"BoxZoomTool\"},{\"attributes\":{\"callback\":null},\"id\":\"1327\",\"type\":\"DataRange1d\"},{\"attributes\":{\"data_source\":{\"id\":\"1361\",\"type\":\"ColumnDataSource\"},\"glyph\":{\"id\":\"1372\",\"type\":\"Circle\"},\"hover_glyph\":null,\"muted_glyph\":null,\"nonselection_glyph\":{\"id\":\"1373\",\"type\":\"Circle\"},\"selection_glyph\":null,\"view\":{\"id\":\"1375\",\"type\":\"CDSView\"}},\"id\":\"1374\",\"type\":\"GlyphRenderer\"},{\"attributes\":{\"source\":{\"id\":\"1361\",\"type\":\"ColumnDataSource\"}},\"id\":\"1375\",\"type\":\"CDSView\"},{\"attributes\":{},\"id\":\"1348\",\"type\":\"SaveTool\"},{\"attributes\":{},\"id\":\"1349\",\"type\":\"ResetTool\"}],\"root_ids\":[\"1325\"]},\"title\":\"Bokeh Application\",\"version\":\"1.0.2\"}};\n",
       "  var render_items = [{\"docid\":\"be4f7c66-1211-421e-abe2-aac06dabc731\",\"roots\":{\"1325\":\"1a44e88f-ac86-4a3b-8f73-6e084b318cbd\"}}];\n",
       "  root.Bokeh.embed.embed_items_notebook(docs_json, render_items);\n",
       "\n",
       "  }\n",
       "  if (root.Bokeh !== undefined) {\n",
       "    embed_document(root);\n",
       "  } else {\n",
       "    var attempts = 0;\n",
       "    var timer = setInterval(function(root) {\n",
       "      if (root.Bokeh !== undefined) {\n",
       "        embed_document(root);\n",
       "        clearInterval(timer);\n",
       "      }\n",
       "      attempts++;\n",
       "      if (attempts > 100) {\n",
       "        console.log(\"Bokeh: ERROR: Unable to run BokehJS code because BokehJS library is missing\");\n",
       "        clearInterval(timer);\n",
       "      }\n",
       "    }, 10, root)\n",
       "  }\n",
       "})(window);"
      ],
      "application/vnd.bokehjs_exec.v0+json": ""
     },
     "metadata": {
      "application/vnd.bokehjs_exec.v0+json": {
       "id": "1325"
      }
     },
     "output_type": "display_data"
    }
   ],
   "source": [
    "best_freq = freq[np.argmax(PLS)]\n",
    "#best_freq = 39.7879\n",
    "\n",
    "\n",
    "summary = 'Best_frequency: {}, Period: {} days, {} Minutes'.format(best_freq,1/best_freq,\n",
    "                                                                               1/best_freq*24*60.)\n",
    "sumseconds = '{} Seconds'.format( 1/best_freq*24*60.*60.)\n",
    "\n",
    "\n",
    "phase = (mjd * best_freq) % 1\n",
    "\n",
    "# compute the best-fit model\n",
    "phase_fit = np.linspace(0, 1,len(mjd))\n",
    "mag_fit = LombScargle(mjd, mag).model(t=phase_fit / best_freq,\n",
    "                                          frequency=best_freq)\n",
    "#Two phases\n",
    "\n",
    "phase2 = phase-1\n",
    "phasesall= np.concatenate((phase2, phase), axis=None)\n",
    "magall = np.concatenate((mag,mag),axis=None)\n",
    "mjdall =  np.concatenate((mjd,mjd),axis=None)\n",
    "\n",
    "\n",
    "# compute the best-fit model\n",
    "phase_fit2 = np.linspace(-1, 1,len(mjd))\n",
    "mag_fit2 = LombScargle(mjd, mag).model(t=phase_fit2 / best_freq,\n",
    "                                          frequency=best_freq)\n",
    "\n",
    "\n",
    "\n",
    "#my_palette = big_palette(len(mag),viridis)\n",
    "my_palette = viridis(len(mag))\n",
    "colorlist = my_palette\n",
    "\n",
    "\n",
    "p = figure(plot_width=900, plot_height=500, title=summary,active_drag='pan'\n",
    "           , active_scroll='wheel_zoom',y_axis_label='flux',x_axis_label='Phase')\n",
    "\n",
    "p.add_layout(Title(text=sumseconds, text_font_size=\"10pt\"), 'above')\n",
    "\n",
    "\n",
    "source = ColumnDataSource(data={'phase':phasesall,\n",
    "                                'flux':magall,\n",
    "                                'mjd':mjdall })\n",
    "  \n",
    "\n",
    "\n",
    "#Tool to get wavelength\n",
    "hover2 = HoverTool(\n",
    "        tooltips=[\n",
    "            ('Date', '(@mjd{0.0000})')\n",
    "        ]\n",
    "    )\n",
    "\n",
    "\n",
    "p.add_tools(hover2)\n",
    "\n",
    "\n",
    "# add a circle renderer with a size, color, and alpha\n",
    "#p.add_layout(\n",
    "#    Whisker(source=source, base=\"phase\", upper=\"upper\", lower=\"lower\")\n",
    "#)\n",
    "\n",
    "p.line(phase_fit2, mag_fit2,color='red')\n",
    "#p.y_range.flipped = True\n",
    "\n",
    "mapper = LinearColorMapper(palette=colorlist, low=mjdall.min(), high=mjdall.max())\n",
    "\n",
    "#mapper.low_color = 'blue'\n",
    "#mapper.high_color = 'red'\n",
    "\n",
    "color_bar = ColorBar(color_mapper=mapper, location=(0, 0.5),title='MJD')\n",
    "\n",
    "p.circle('phase','flux',source=source,color={'field': 'mjd', 'transform': mapper})\n",
    "\n",
    "\n",
    "p.add_layout(color_bar, 'right')\n",
    "#@date{%F}'\n",
    "\n",
    "show(p)"
   ]
  },
  {
   "cell_type": "code",
   "execution_count": null,
   "metadata": {},
   "outputs": [],
   "source": []
  },
  {
   "cell_type": "code",
   "execution_count": null,
   "metadata": {},
   "outputs": [],
   "source": []
  }
 ],
 "metadata": {
  "kernelspec": {
   "display_name": "Python 3",
   "language": "python",
   "name": "python3"
  },
  "language_info": {
   "codemirror_mode": {
    "name": "ipython",
    "version": 3
   },
   "file_extension": ".py",
   "mimetype": "text/x-python",
   "name": "python",
   "nbconvert_exporter": "python",
   "pygments_lexer": "ipython3",
   "version": "3.7.4"
  }
 },
 "nbformat": 4,
 "nbformat_minor": 2
}
