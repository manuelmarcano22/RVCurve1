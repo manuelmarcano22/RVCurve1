{
 "cells": [
  {
   "cell_type": "code",
   "execution_count": 9,
   "metadata": {},
   "outputs": [
    {
     "data": {
      "text/html": [
       "\n",
       "    <div class=\"bk-root\">\n",
       "        <a href=\"https://bokeh.pydata.org\" target=\"_blank\" class=\"bk-logo bk-logo-small bk-logo-notebook\"></a>\n",
       "        <span id=\"1102\">Loading BokehJS ...</span>\n",
       "    </div>"
      ]
     },
     "metadata": {},
     "output_type": "display_data"
    },
    {
     "data": {
      "application/javascript": [
       "\n",
       "(function(root) {\n",
       "  function now() {\n",
       "    return new Date();\n",
       "  }\n",
       "\n",
       "  var force = true;\n",
       "\n",
       "  if (typeof (root._bokeh_onload_callbacks) === \"undefined\" || force === true) {\n",
       "    root._bokeh_onload_callbacks = [];\n",
       "    root._bokeh_is_loading = undefined;\n",
       "  }\n",
       "\n",
       "  var JS_MIME_TYPE = 'application/javascript';\n",
       "  var HTML_MIME_TYPE = 'text/html';\n",
       "  var EXEC_MIME_TYPE = 'application/vnd.bokehjs_exec.v0+json';\n",
       "  var CLASS_NAME = 'output_bokeh rendered_html';\n",
       "\n",
       "  /**\n",
       "   * Render data to the DOM node\n",
       "   */\n",
       "  function render(props, node) {\n",
       "    var script = document.createElement(\"script\");\n",
       "    node.appendChild(script);\n",
       "  }\n",
       "\n",
       "  /**\n",
       "   * Handle when an output is cleared or removed\n",
       "   */\n",
       "  function handleClearOutput(event, handle) {\n",
       "    var cell = handle.cell;\n",
       "\n",
       "    var id = cell.output_area._bokeh_element_id;\n",
       "    var server_id = cell.output_area._bokeh_server_id;\n",
       "    // Clean up Bokeh references\n",
       "    if (id != null && id in Bokeh.index) {\n",
       "      Bokeh.index[id].model.document.clear();\n",
       "      delete Bokeh.index[id];\n",
       "    }\n",
       "\n",
       "    if (server_id !== undefined) {\n",
       "      // Clean up Bokeh references\n",
       "      var cmd = \"from bokeh.io.state import curstate; print(curstate().uuid_to_server['\" + server_id + \"'].get_sessions()[0].document.roots[0]._id)\";\n",
       "      cell.notebook.kernel.execute(cmd, {\n",
       "        iopub: {\n",
       "          output: function(msg) {\n",
       "            var id = msg.content.text.trim();\n",
       "            if (id in Bokeh.index) {\n",
       "              Bokeh.index[id].model.document.clear();\n",
       "              delete Bokeh.index[id];\n",
       "            }\n",
       "          }\n",
       "        }\n",
       "      });\n",
       "      // Destroy server and session\n",
       "      var cmd = \"import bokeh.io.notebook as ion; ion.destroy_server('\" + server_id + \"')\";\n",
       "      cell.notebook.kernel.execute(cmd);\n",
       "    }\n",
       "  }\n",
       "\n",
       "  /**\n",
       "   * Handle when a new output is added\n",
       "   */\n",
       "  function handleAddOutput(event, handle) {\n",
       "    var output_area = handle.output_area;\n",
       "    var output = handle.output;\n",
       "\n",
       "    // limit handleAddOutput to display_data with EXEC_MIME_TYPE content only\n",
       "    if ((output.output_type != \"display_data\") || (!output.data.hasOwnProperty(EXEC_MIME_TYPE))) {\n",
       "      return\n",
       "    }\n",
       "\n",
       "    var toinsert = output_area.element.find(\".\" + CLASS_NAME.split(' ')[0]);\n",
       "\n",
       "    if (output.metadata[EXEC_MIME_TYPE][\"id\"] !== undefined) {\n",
       "      toinsert[toinsert.length - 1].firstChild.textContent = output.data[JS_MIME_TYPE];\n",
       "      // store reference to embed id on output_area\n",
       "      output_area._bokeh_element_id = output.metadata[EXEC_MIME_TYPE][\"id\"];\n",
       "    }\n",
       "    if (output.metadata[EXEC_MIME_TYPE][\"server_id\"] !== undefined) {\n",
       "      var bk_div = document.createElement(\"div\");\n",
       "      bk_div.innerHTML = output.data[HTML_MIME_TYPE];\n",
       "      var script_attrs = bk_div.children[0].attributes;\n",
       "      for (var i = 0; i < script_attrs.length; i++) {\n",
       "        toinsert[toinsert.length - 1].firstChild.setAttribute(script_attrs[i].name, script_attrs[i].value);\n",
       "      }\n",
       "      // store reference to server id on output_area\n",
       "      output_area._bokeh_server_id = output.metadata[EXEC_MIME_TYPE][\"server_id\"];\n",
       "    }\n",
       "  }\n",
       "\n",
       "  function register_renderer(events, OutputArea) {\n",
       "\n",
       "    function append_mime(data, metadata, element) {\n",
       "      // create a DOM node to render to\n",
       "      var toinsert = this.create_output_subarea(\n",
       "        metadata,\n",
       "        CLASS_NAME,\n",
       "        EXEC_MIME_TYPE\n",
       "      );\n",
       "      this.keyboard_manager.register_events(toinsert);\n",
       "      // Render to node\n",
       "      var props = {data: data, metadata: metadata[EXEC_MIME_TYPE]};\n",
       "      render(props, toinsert[toinsert.length - 1]);\n",
       "      element.append(toinsert);\n",
       "      return toinsert\n",
       "    }\n",
       "\n",
       "    /* Handle when an output is cleared or removed */\n",
       "    events.on('clear_output.CodeCell', handleClearOutput);\n",
       "    events.on('delete.Cell', handleClearOutput);\n",
       "\n",
       "    /* Handle when a new output is added */\n",
       "    events.on('output_added.OutputArea', handleAddOutput);\n",
       "\n",
       "    /**\n",
       "     * Register the mime type and append_mime function with output_area\n",
       "     */\n",
       "    OutputArea.prototype.register_mime_type(EXEC_MIME_TYPE, append_mime, {\n",
       "      /* Is output safe? */\n",
       "      safe: true,\n",
       "      /* Index of renderer in `output_area.display_order` */\n",
       "      index: 0\n",
       "    });\n",
       "  }\n",
       "\n",
       "  // register the mime type if in Jupyter Notebook environment and previously unregistered\n",
       "  if (root.Jupyter !== undefined) {\n",
       "    var events = require('base/js/events');\n",
       "    var OutputArea = require('notebook/js/outputarea').OutputArea;\n",
       "\n",
       "    if (OutputArea.prototype.mime_types().indexOf(EXEC_MIME_TYPE) == -1) {\n",
       "      register_renderer(events, OutputArea);\n",
       "    }\n",
       "  }\n",
       "\n",
       "  \n",
       "  if (typeof (root._bokeh_timeout) === \"undefined\" || force === true) {\n",
       "    root._bokeh_timeout = Date.now() + 5000;\n",
       "    root._bokeh_failed_load = false;\n",
       "  }\n",
       "\n",
       "  var NB_LOAD_WARNING = {'data': {'text/html':\n",
       "     \"<div style='background-color: #fdd'>\\n\"+\n",
       "     \"<p>\\n\"+\n",
       "     \"BokehJS does not appear to have successfully loaded. If loading BokehJS from CDN, this \\n\"+\n",
       "     \"may be due to a slow or bad network connection. Possible fixes:\\n\"+\n",
       "     \"</p>\\n\"+\n",
       "     \"<ul>\\n\"+\n",
       "     \"<li>re-rerun `output_notebook()` to attempt to load from CDN again, or</li>\\n\"+\n",
       "     \"<li>use INLINE resources instead, as so:</li>\\n\"+\n",
       "     \"</ul>\\n\"+\n",
       "     \"<code>\\n\"+\n",
       "     \"from bokeh.resources import INLINE\\n\"+\n",
       "     \"output_notebook(resources=INLINE)\\n\"+\n",
       "     \"</code>\\n\"+\n",
       "     \"</div>\"}};\n",
       "\n",
       "  function display_loaded() {\n",
       "    var el = document.getElementById(\"1102\");\n",
       "    if (el != null) {\n",
       "      el.textContent = \"BokehJS is loading...\";\n",
       "    }\n",
       "    if (root.Bokeh !== undefined) {\n",
       "      if (el != null) {\n",
       "        el.textContent = \"BokehJS \" + root.Bokeh.version + \" successfully loaded.\";\n",
       "      }\n",
       "    } else if (Date.now() < root._bokeh_timeout) {\n",
       "      setTimeout(display_loaded, 100)\n",
       "    }\n",
       "  }\n",
       "\n",
       "\n",
       "  function run_callbacks() {\n",
       "    try {\n",
       "      root._bokeh_onload_callbacks.forEach(function(callback) { callback() });\n",
       "    }\n",
       "    finally {\n",
       "      delete root._bokeh_onload_callbacks\n",
       "    }\n",
       "    console.info(\"Bokeh: all callbacks have finished\");\n",
       "  }\n",
       "\n",
       "  function load_libs(js_urls, callback) {\n",
       "    root._bokeh_onload_callbacks.push(callback);\n",
       "    if (root._bokeh_is_loading > 0) {\n",
       "      console.log(\"Bokeh: BokehJS is being loaded, scheduling callback at\", now());\n",
       "      return null;\n",
       "    }\n",
       "    if (js_urls == null || js_urls.length === 0) {\n",
       "      run_callbacks();\n",
       "      return null;\n",
       "    }\n",
       "    console.log(\"Bokeh: BokehJS not loaded, scheduling load and callback at\", now());\n",
       "    root._bokeh_is_loading = js_urls.length;\n",
       "    for (var i = 0; i < js_urls.length; i++) {\n",
       "      var url = js_urls[i];\n",
       "      var s = document.createElement('script');\n",
       "      s.src = url;\n",
       "      s.async = false;\n",
       "      s.onreadystatechange = s.onload = function() {\n",
       "        root._bokeh_is_loading--;\n",
       "        if (root._bokeh_is_loading === 0) {\n",
       "          console.log(\"Bokeh: all BokehJS libraries loaded\");\n",
       "          run_callbacks()\n",
       "        }\n",
       "      };\n",
       "      s.onerror = function() {\n",
       "        console.warn(\"failed to load library \" + url);\n",
       "      };\n",
       "      console.log(\"Bokeh: injecting script tag for BokehJS library: \", url);\n",
       "      document.getElementsByTagName(\"head\")[0].appendChild(s);\n",
       "    }\n",
       "  };var element = document.getElementById(\"1102\");\n",
       "  if (element == null) {\n",
       "    console.log(\"Bokeh: ERROR: autoload.js configured with elementid '1102' but no matching script tag was found. \")\n",
       "    return false;\n",
       "  }\n",
       "\n",
       "  var js_urls = [\"https://cdn.pydata.org/bokeh/release/bokeh-1.0.2.min.js\", \"https://cdn.pydata.org/bokeh/release/bokeh-widgets-1.0.2.min.js\", \"https://cdn.pydata.org/bokeh/release/bokeh-tables-1.0.2.min.js\", \"https://cdn.pydata.org/bokeh/release/bokeh-gl-1.0.2.min.js\"];\n",
       "\n",
       "  var inline_js = [\n",
       "    function(Bokeh) {\n",
       "      Bokeh.set_log_level(\"info\");\n",
       "    },\n",
       "    \n",
       "    function(Bokeh) {\n",
       "      \n",
       "    },\n",
       "    function(Bokeh) {\n",
       "      console.log(\"Bokeh: injecting CSS: https://cdn.pydata.org/bokeh/release/bokeh-1.0.2.min.css\");\n",
       "      Bokeh.embed.inject_css(\"https://cdn.pydata.org/bokeh/release/bokeh-1.0.2.min.css\");\n",
       "      console.log(\"Bokeh: injecting CSS: https://cdn.pydata.org/bokeh/release/bokeh-widgets-1.0.2.min.css\");\n",
       "      Bokeh.embed.inject_css(\"https://cdn.pydata.org/bokeh/release/bokeh-widgets-1.0.2.min.css\");\n",
       "      console.log(\"Bokeh: injecting CSS: https://cdn.pydata.org/bokeh/release/bokeh-tables-1.0.2.min.css\");\n",
       "      Bokeh.embed.inject_css(\"https://cdn.pydata.org/bokeh/release/bokeh-tables-1.0.2.min.css\");\n",
       "    }\n",
       "  ];\n",
       "\n",
       "  function run_inline_js() {\n",
       "    \n",
       "    if ((root.Bokeh !== undefined) || (force === true)) {\n",
       "      for (var i = 0; i < inline_js.length; i++) {\n",
       "        inline_js[i].call(root, root.Bokeh);\n",
       "      }if (force === true) {\n",
       "        display_loaded();\n",
       "      }} else if (Date.now() < root._bokeh_timeout) {\n",
       "      setTimeout(run_inline_js, 100);\n",
       "    } else if (!root._bokeh_failed_load) {\n",
       "      console.log(\"Bokeh: BokehJS failed to load within specified timeout.\");\n",
       "      root._bokeh_failed_load = true;\n",
       "    } else if (force !== true) {\n",
       "      var cell = $(document.getElementById(\"1102\")).parents('.cell').data().cell;\n",
       "      cell.output_area.append_execute_result(NB_LOAD_WARNING)\n",
       "    }\n",
       "\n",
       "  }\n",
       "\n",
       "  if (root._bokeh_is_loading === 0) {\n",
       "    console.log(\"Bokeh: BokehJS loaded, going straight to plotting\");\n",
       "    run_inline_js();\n",
       "  } else {\n",
       "    load_libs(js_urls, function() {\n",
       "      console.log(\"Bokeh: BokehJS plotting callback run at\", now());\n",
       "      run_inline_js();\n",
       "    });\n",
       "  }\n",
       "}(window));"
      ],
      "application/vnd.bokehjs_load.v0+json": "\n(function(root) {\n  function now() {\n    return new Date();\n  }\n\n  var force = true;\n\n  if (typeof (root._bokeh_onload_callbacks) === \"undefined\" || force === true) {\n    root._bokeh_onload_callbacks = [];\n    root._bokeh_is_loading = undefined;\n  }\n\n  \n\n  \n  if (typeof (root._bokeh_timeout) === \"undefined\" || force === true) {\n    root._bokeh_timeout = Date.now() + 5000;\n    root._bokeh_failed_load = false;\n  }\n\n  var NB_LOAD_WARNING = {'data': {'text/html':\n     \"<div style='background-color: #fdd'>\\n\"+\n     \"<p>\\n\"+\n     \"BokehJS does not appear to have successfully loaded. If loading BokehJS from CDN, this \\n\"+\n     \"may be due to a slow or bad network connection. Possible fixes:\\n\"+\n     \"</p>\\n\"+\n     \"<ul>\\n\"+\n     \"<li>re-rerun `output_notebook()` to attempt to load from CDN again, or</li>\\n\"+\n     \"<li>use INLINE resources instead, as so:</li>\\n\"+\n     \"</ul>\\n\"+\n     \"<code>\\n\"+\n     \"from bokeh.resources import INLINE\\n\"+\n     \"output_notebook(resources=INLINE)\\n\"+\n     \"</code>\\n\"+\n     \"</div>\"}};\n\n  function display_loaded() {\n    var el = document.getElementById(\"1102\");\n    if (el != null) {\n      el.textContent = \"BokehJS is loading...\";\n    }\n    if (root.Bokeh !== undefined) {\n      if (el != null) {\n        el.textContent = \"BokehJS \" + root.Bokeh.version + \" successfully loaded.\";\n      }\n    } else if (Date.now() < root._bokeh_timeout) {\n      setTimeout(display_loaded, 100)\n    }\n  }\n\n\n  function run_callbacks() {\n    try {\n      root._bokeh_onload_callbacks.forEach(function(callback) { callback() });\n    }\n    finally {\n      delete root._bokeh_onload_callbacks\n    }\n    console.info(\"Bokeh: all callbacks have finished\");\n  }\n\n  function load_libs(js_urls, callback) {\n    root._bokeh_onload_callbacks.push(callback);\n    if (root._bokeh_is_loading > 0) {\n      console.log(\"Bokeh: BokehJS is being loaded, scheduling callback at\", now());\n      return null;\n    }\n    if (js_urls == null || js_urls.length === 0) {\n      run_callbacks();\n      return null;\n    }\n    console.log(\"Bokeh: BokehJS not loaded, scheduling load and callback at\", now());\n    root._bokeh_is_loading = js_urls.length;\n    for (var i = 0; i < js_urls.length; i++) {\n      var url = js_urls[i];\n      var s = document.createElement('script');\n      s.src = url;\n      s.async = false;\n      s.onreadystatechange = s.onload = function() {\n        root._bokeh_is_loading--;\n        if (root._bokeh_is_loading === 0) {\n          console.log(\"Bokeh: all BokehJS libraries loaded\");\n          run_callbacks()\n        }\n      };\n      s.onerror = function() {\n        console.warn(\"failed to load library \" + url);\n      };\n      console.log(\"Bokeh: injecting script tag for BokehJS library: \", url);\n      document.getElementsByTagName(\"head\")[0].appendChild(s);\n    }\n  };var element = document.getElementById(\"1102\");\n  if (element == null) {\n    console.log(\"Bokeh: ERROR: autoload.js configured with elementid '1102' but no matching script tag was found. \")\n    return false;\n  }\n\n  var js_urls = [\"https://cdn.pydata.org/bokeh/release/bokeh-1.0.2.min.js\", \"https://cdn.pydata.org/bokeh/release/bokeh-widgets-1.0.2.min.js\", \"https://cdn.pydata.org/bokeh/release/bokeh-tables-1.0.2.min.js\", \"https://cdn.pydata.org/bokeh/release/bokeh-gl-1.0.2.min.js\"];\n\n  var inline_js = [\n    function(Bokeh) {\n      Bokeh.set_log_level(\"info\");\n    },\n    \n    function(Bokeh) {\n      \n    },\n    function(Bokeh) {\n      console.log(\"Bokeh: injecting CSS: https://cdn.pydata.org/bokeh/release/bokeh-1.0.2.min.css\");\n      Bokeh.embed.inject_css(\"https://cdn.pydata.org/bokeh/release/bokeh-1.0.2.min.css\");\n      console.log(\"Bokeh: injecting CSS: https://cdn.pydata.org/bokeh/release/bokeh-widgets-1.0.2.min.css\");\n      Bokeh.embed.inject_css(\"https://cdn.pydata.org/bokeh/release/bokeh-widgets-1.0.2.min.css\");\n      console.log(\"Bokeh: injecting CSS: https://cdn.pydata.org/bokeh/release/bokeh-tables-1.0.2.min.css\");\n      Bokeh.embed.inject_css(\"https://cdn.pydata.org/bokeh/release/bokeh-tables-1.0.2.min.css\");\n    }\n  ];\n\n  function run_inline_js() {\n    \n    if ((root.Bokeh !== undefined) || (force === true)) {\n      for (var i = 0; i < inline_js.length; i++) {\n        inline_js[i].call(root, root.Bokeh);\n      }if (force === true) {\n        display_loaded();\n      }} else if (Date.now() < root._bokeh_timeout) {\n      setTimeout(run_inline_js, 100);\n    } else if (!root._bokeh_failed_load) {\n      console.log(\"Bokeh: BokehJS failed to load within specified timeout.\");\n      root._bokeh_failed_load = true;\n    } else if (force !== true) {\n      var cell = $(document.getElementById(\"1102\")).parents('.cell').data().cell;\n      cell.output_area.append_execute_result(NB_LOAD_WARNING)\n    }\n\n  }\n\n  if (root._bokeh_is_loading === 0) {\n    console.log(\"Bokeh: BokehJS loaded, going straight to plotting\");\n    run_inline_js();\n  } else {\n    load_libs(js_urls, function() {\n      console.log(\"Bokeh: BokehJS plotting callback run at\", now());\n      run_inline_js();\n    });\n  }\n}(window));"
     },
     "metadata": {},
     "output_type": "display_data"
    }
   ],
   "source": [
    "from astropy.time import Time\n",
    "#Bokeh plotting\n",
    "from bokeh.io import push_notebook, show, output_notebook\n",
    "from bokeh.plotting import figure\n",
    "from bokeh.models import Span, Label, Arrow, NormalHead\n",
    "from bokeh.models import HoverTool, tools, ColumnDataSource, CustomJS, Slider, BoxAnnotation\n",
    "output_notebook()\n",
    "from bokeh.models import HoverTool, tools, ColumnDataSource, CustomJS, Slider, BoxAnnotation\n",
    "from bokeh.layouts import  column, row\n",
    "from astropy.timeseries import LombScargle\n",
    "import numpy as np\n",
    "from bokeh.palettes import viridis, inferno\n",
    "import matplotlib.pyplot as plt\n",
    "from bokeh.models import Title\n",
    "from bokeh.models import HoverTool, tools,ColumnDataSource, Whisker, ColorBar, LinearColorMapper"
   ]
  },
  {
   "cell_type": "code",
   "execution_count": 10,
   "metadata": {},
   "outputs": [],
   "source": [
    "t = ['2015-04-09T06:34:07.011',\n",
    "     '2015-04-09T06:40:09.004',\n",
    "     '2015-04-09T06:46:11.007',\n",
    "     '2015-04-09T06:52:14.000',\n",
    "     '2015-04-09T06:58:17.018',\n",
    "     '2015-04-09T07:04:20.007',\n",
    "     '2015-04-09T07:10:23.000',\n",
    "     '2015-04-09T07:16:26.004',\n",
    "     '2015-04-09T07:22:28.007',\n",
    "     '2015-04-09T07:44:36.009',\n",
    "     '2015-04-09T07:50:38.002',\n",
    "     '2015-04-09T07:56:40.005',\n",
    "     '2015-04-09T08:02:44.008',\n",
    "     '2015-04-09T08:08:45.001',\n",
    "     '2015-04-09T08:14:47.019',\n",
    "     '2015-04-09T08:20:49.007',\n",
    "     '2015-04-09T08:26:52.028',\n",
    "     '2015-04-09T08:32:55.004']"
   ]
  },
  {
   "cell_type": "code",
   "execution_count": 11,
   "metadata": {},
   "outputs": [
    {
     "data": {
      "text/plain": [
       "18"
      ]
     },
     "execution_count": 11,
     "metadata": {},
     "output_type": "execute_result"
    }
   ],
   "source": [
    "len(t)"
   ]
  },
  {
   "cell_type": "code",
   "execution_count": 12,
   "metadata": {},
   "outputs": [],
   "source": [
    "t2 = Time(t,format='isot', scale='utc')"
   ]
  },
  {
   "cell_type": "code",
   "execution_count": 13,
   "metadata": {},
   "outputs": [],
   "source": [
    "vrad = [0,\n",
    "        -0.959,\n",
    "        10.557,\n",
    "        3.076,\n",
    "        3.96,\n",
    "        5.802,\n",
    "        10.598,\n",
    "        -4.147,\n",
    "        9.320,\n",
    "        -8.051,\n",
    "        4.788,\n",
    "        8.07,\n",
    "        22.57,\n",
    "        9.439,\n",
    "        21.023,\n",
    "        4.52,\n",
    "        6.585,\n",
    "        9.341]\n",
    "        \n",
    "    \n"
   ]
  },
  {
   "cell_type": "code",
   "execution_count": 14,
   "metadata": {},
   "outputs": [
    {
     "data": {
      "text/plain": [
       "18"
      ]
     },
     "execution_count": 14,
     "metadata": {},
     "output_type": "execute_result"
    }
   ],
   "source": [
    "len(vrad)"
   ]
  },
  {
   "cell_type": "code",
   "execution_count": 15,
   "metadata": {},
   "outputs": [
    {
     "data": {
      "text/html": [
       "\n",
       "\n",
       "\n",
       "\n",
       "\n",
       "\n",
       "  <div class=\"bk-root\" id=\"cb2fb626-b564-48fa-b65f-17fef491964c\"></div>\n"
      ]
     },
     "metadata": {},
     "output_type": "display_data"
    },
    {
     "data": {
      "application/javascript": [
       "(function(root) {\n",
       "  function embed_document(root) {\n",
       "    \n",
       "  var docs_json = {\"0c3b7c75-b1ef-4a53-b030-c695928e5218\":{\"roots\":{\"references\":[{\"attributes\":{\"below\":[{\"id\":\"1116\",\"type\":\"LinearAxis\"}],\"left\":[{\"id\":\"1121\",\"type\":\"LinearAxis\"}],\"plot_height\":700,\"plot_width\":900,\"renderers\":[{\"id\":\"1116\",\"type\":\"LinearAxis\"},{\"id\":\"1120\",\"type\":\"Grid\"},{\"id\":\"1121\",\"type\":\"LinearAxis\"},{\"id\":\"1125\",\"type\":\"Grid\"},{\"id\":\"1134\",\"type\":\"BoxAnnotation\"},{\"id\":\"1145\",\"type\":\"GlyphRenderer\"}],\"title\":{\"id\":\"1105\",\"type\":\"Title\"},\"toolbar\":{\"id\":\"1132\",\"type\":\"Toolbar\"},\"x_range\":{\"id\":\"1108\",\"type\":\"DataRange1d\"},\"x_scale\":{\"id\":\"1112\",\"type\":\"LinearScale\"},\"y_range\":{\"id\":\"1110\",\"type\":\"DataRange1d\"},\"y_scale\":{\"id\":\"1114\",\"type\":\"LinearScale\"}},\"id\":\"1106\",\"subtype\":\"Figure\",\"type\":\"Plot\"},{\"attributes\":{},\"id\":\"1160\",\"type\":\"UnionRenderers\"},{\"attributes\":{},\"id\":\"1131\",\"type\":\"HelpTool\"},{\"attributes\":{\"data_source\":{\"id\":\"1103\",\"type\":\"ColumnDataSource\"},\"glyph\":{\"id\":\"1143\",\"type\":\"Line\"},\"hover_glyph\":null,\"muted_glyph\":null,\"nonselection_glyph\":{\"id\":\"1144\",\"type\":\"Line\"},\"selection_glyph\":null,\"view\":{\"id\":\"1146\",\"type\":\"CDSView\"}},\"id\":\"1145\",\"type\":\"GlyphRenderer\"},{\"attributes\":{\"line_color\":\"#1f77b4\",\"x\":{\"field\":\"x\"},\"y\":{\"field\":\"y\"}},\"id\":\"1143\",\"type\":\"Line\"},{\"attributes\":{\"plot\":{\"id\":\"1106\",\"subtype\":\"Figure\",\"type\":\"Plot\"},\"ticker\":{\"id\":\"1117\",\"type\":\"BasicTicker\"}},\"id\":\"1120\",\"type\":\"Grid\"},{\"attributes\":{},\"id\":\"1112\",\"type\":\"LinearScale\"},{\"attributes\":{},\"id\":\"1117\",\"type\":\"BasicTicker\"},{\"attributes\":{\"axis_label\":\"vrad(km/s)\",\"formatter\":{\"id\":\"1159\",\"type\":\"BasicTickFormatter\"},\"plot\":{\"id\":\"1106\",\"subtype\":\"Figure\",\"type\":\"Plot\"},\"ticker\":{\"id\":\"1122\",\"type\":\"BasicTicker\"}},\"id\":\"1121\",\"type\":\"LinearAxis\"},{\"attributes\":{\"bottom_units\":\"screen\",\"fill_alpha\":{\"value\":0.5},\"fill_color\":{\"value\":\"lightgrey\"},\"left_units\":\"screen\",\"level\":\"overlay\",\"line_alpha\":{\"value\":1.0},\"line_color\":{\"value\":\"black\"},\"line_dash\":[4,4],\"line_width\":{\"value\":2},\"plot\":null,\"render_mode\":\"css\",\"right_units\":\"screen\",\"top_units\":\"screen\"},\"id\":\"1134\",\"type\":\"BoxAnnotation\"},{\"attributes\":{},\"id\":\"1157\",\"type\":\"BasicTickFormatter\"},{\"attributes\":{\"active_drag\":\"auto\",\"active_inspect\":\"auto\",\"active_multi\":null,\"active_scroll\":{\"id\":\"1127\",\"type\":\"WheelZoomTool\"},\"active_tap\":\"auto\",\"tools\":[{\"id\":\"1126\",\"type\":\"PanTool\"},{\"id\":\"1127\",\"type\":\"WheelZoomTool\"},{\"id\":\"1128\",\"type\":\"BoxZoomTool\"},{\"id\":\"1129\",\"type\":\"SaveTool\"},{\"id\":\"1130\",\"type\":\"ResetTool\"},{\"id\":\"1131\",\"type\":\"HelpTool\"},{\"id\":\"1104\",\"type\":\"HoverTool\"}]},\"id\":\"1132\",\"type\":\"Toolbar\"},{\"attributes\":{\"axis_label\":\"MJD\",\"formatter\":{\"id\":\"1157\",\"type\":\"BasicTickFormatter\"},\"plot\":{\"id\":\"1106\",\"subtype\":\"Figure\",\"type\":\"Plot\"},\"ticker\":{\"id\":\"1117\",\"type\":\"BasicTicker\"}},\"id\":\"1116\",\"type\":\"LinearAxis\"},{\"attributes\":{},\"id\":\"1159\",\"type\":\"BasicTickFormatter\"},{\"attributes\":{\"callback\":null,\"data\":{\"x\":{\"__ndarray__\":\"mEMWwijk60DMxWjkKOTrQCSGuwYp5OtAIU4mKSnk60B2sZFLKeTrQJhg/G0p5OtAlShnkCnk60DsNNKyKeTrQEP1JNUp5OtAcwIPUyrk60CnhGF1KuTrQP9EtJcq5OtA6JA3uirk60BTzXHcKuTrQODqxP4q5OtAAk4XISvk60D8w4JDK+TrQFYi7WUr5OtA\",\"dtype\":\"float64\",\"shape\":[18]},\"y\":[0,-0.959,10.557,3.076,3.96,5.802,10.598,-4.147,9.32,-8.051,4.788,8.07,22.57,9.439,21.023,4.52,6.585,9.341]},\"selected\":{\"id\":\"1161\",\"type\":\"Selection\"},\"selection_policy\":{\"id\":\"1160\",\"type\":\"UnionRenderers\"}},\"id\":\"1103\",\"type\":\"ColumnDataSource\"},{\"attributes\":{},\"id\":\"1122\",\"type\":\"BasicTicker\"},{\"attributes\":{\"dimension\":1,\"plot\":{\"id\":\"1106\",\"subtype\":\"Figure\",\"type\":\"Plot\"},\"ticker\":{\"id\":\"1122\",\"type\":\"BasicTicker\"}},\"id\":\"1125\",\"type\":\"Grid\"},{\"attributes\":{\"callback\":null},\"id\":\"1110\",\"type\":\"DataRange1d\"},{\"attributes\":{\"line_alpha\":0.1,\"line_color\":\"#1f77b4\",\"x\":{\"field\":\"x\"},\"y\":{\"field\":\"y\"}},\"id\":\"1144\",\"type\":\"Line\"},{\"attributes\":{\"overlay\":{\"id\":\"1134\",\"type\":\"BoxAnnotation\"}},\"id\":\"1128\",\"type\":\"BoxZoomTool\"},{\"attributes\":{},\"id\":\"1161\",\"type\":\"Selection\"},{\"attributes\":{\"source\":{\"id\":\"1103\",\"type\":\"ColumnDataSource\"}},\"id\":\"1146\",\"type\":\"CDSView\"},{\"attributes\":{},\"id\":\"1126\",\"type\":\"PanTool\"},{\"attributes\":{\"callback\":null,\"tooltips\":[[\"(x,y)\",\"($x{1.11}, $y)\"]]},\"id\":\"1104\",\"type\":\"HoverTool\"},{\"attributes\":{},\"id\":\"1127\",\"type\":\"WheelZoomTool\"},{\"attributes\":{},\"id\":\"1130\",\"type\":\"ResetTool\"},{\"attributes\":{\"callback\":null},\"id\":\"1108\",\"type\":\"DataRange1d\"},{\"attributes\":{\"plot\":null,\"text\":\"Spectra\"},\"id\":\"1105\",\"type\":\"Title\"},{\"attributes\":{},\"id\":\"1114\",\"type\":\"LinearScale\"},{\"attributes\":{},\"id\":\"1129\",\"type\":\"SaveTool\"}],\"root_ids\":[\"1106\"]},\"title\":\"Bokeh Application\",\"version\":\"1.0.2\"}};\n",
       "  var render_items = [{\"docid\":\"0c3b7c75-b1ef-4a53-b030-c695928e5218\",\"roots\":{\"1106\":\"cb2fb626-b564-48fa-b65f-17fef491964c\"}}];\n",
       "  root.Bokeh.embed.embed_items_notebook(docs_json, render_items);\n",
       "\n",
       "  }\n",
       "  if (root.Bokeh !== undefined) {\n",
       "    embed_document(root);\n",
       "  } else {\n",
       "    var attempts = 0;\n",
       "    var timer = setInterval(function(root) {\n",
       "      if (root.Bokeh !== undefined) {\n",
       "        embed_document(root);\n",
       "        clearInterval(timer);\n",
       "      }\n",
       "      attempts++;\n",
       "      if (attempts > 100) {\n",
       "        console.log(\"Bokeh: ERROR: Unable to run BokehJS code because BokehJS library is missing\");\n",
       "        clearInterval(timer);\n",
       "      }\n",
       "    }, 10, root)\n",
       "  }\n",
       "})(window);"
      ],
      "application/vnd.bokehjs_exec.v0+json": ""
     },
     "metadata": {
      "application/vnd.bokehjs_exec.v0+json": {
       "id": "1106"
      }
     },
     "output_type": "display_data"
    }
   ],
   "source": [
    "\n",
    "source = ColumnDataSource(data=dict(x=t2.mjd,y=vrad))\n",
    "hover = HoverTool(\n",
    "        tooltips=[\n",
    "            #(\"index\", \"$index\"),\n",
    "            (\"(x,y)\", \"($x{1.11}, $y)\"),\n",
    "        ]\n",
    "    )\n",
    "\n",
    "plot = figure(x_axis_label='MJD', y_axis_label='vrad(km/s)',title=\"Spectra\",\n",
    "              active_scroll='wheel_zoom',plot_width=900, plot_height=700)\n",
    "plot.add_tools(hover)\n",
    "plot.line('x','y',source=source)\n",
    "show(plot)"
   ]
  },
  {
   "cell_type": "code",
   "execution_count": 16,
   "metadata": {},
   "outputs": [
    {
     "data": {
      "image/png": "[encoded data removed]",
      "text/plain": [
       "<Figure size 432x288 with 1 Axes>"
      ]
     },
     "metadata": {
      "needs_background": "light"
     },
     "output_type": "display_data"
    },
    {
     "data": {
      "image/png": "[encoded data removed]",
      "text/plain": [
       "<Figure size 432x288 with 1 Axes>"
      ]
     },
     "metadata": {
      "needs_background": "light"
     },
     "output_type": "display_data"
    },
    {
     "data": {
      "image/png": "[encoded data removed]",
      "text/plain": [
       "<Figure size 432x288 with 1 Axes>"
      ]
     },
     "metadata": {
      "needs_background": "light"
     },
     "output_type": "display_data"
    },
    {
     "name": "stdout",
     "output_type": "stream",
     "text": [
      "Best_frequency: 20.393958440214572, Period: 0.049034129540448286 days, 70.60914653824554 Minutes\n"
     ]
    },
    {
     "data": {
      "image/png": "[encoded data removed]",
      "text/plain": [
       "<Figure size 432x288 with 1 Axes>"
      ]
     },
     "metadata": {
      "needs_background": "light"
     },
     "output_type": "display_data"
    }
   ],
   "source": [
    "mjd = t2.mjd\n",
    "\n",
    "mag = vrad\n",
    "\n",
    "\n",
    "\n",
    "freq, PLS = LombScargle(mjd, mag).autopower(minimum_frequency=1 / 1.,\n",
    "                                                maximum_frequency=1 / 0.01)\n",
    "\n",
    "\n",
    "best_freq = freq[np.argmax(PLS)]\n",
    "phase = (mjd * best_freq) % 1\n",
    "\n",
    "# compute the best-fit model\n",
    "phase_fit = np.linspace(0, 1,len(mjd))\n",
    "mag_fit = LombScargle(mjd, mag).model(t=phase_fit / best_freq,\n",
    "                                          frequency=best_freq)\n",
    "# plot the periodogram\n",
    "\n",
    "fig, ax = plt.subplots()\n",
    "\n",
    "plt.plot(1. / freq, PLS)\n",
    "ax.set(xlabel='period (days)',\n",
    "          ylabel='Lomb-Scargle Power',\n",
    "          ylim=(0, 1));\n",
    "plt.show()\n",
    "\n",
    "\n",
    "fig, ax = plt.subplots()\n",
    "\n",
    "# plot the raw data\n",
    "ax.errorbar(mjd, mag, fmt='ok', elinewidth=1.5, capsize=0)\n",
    "#ax.invert_yaxis()\n",
    "ax.set(   xlabel='Observation time (days)',\n",
    "          ylabel='Observed Magnitude')\n",
    "\n",
    "#plt.plot(t,mag_fit)\n",
    "\n",
    "\n",
    "\n",
    "fig, ax = plt.subplots()\n",
    "# plot the phased data & model in the inset\n",
    "plt.errorbar(phase, mag, fmt='.k', capsize=0)\n",
    "plt.plot(phase_fit, mag_fit)\n",
    "\n",
    "\n",
    "#ax.invert_yaxis()\n",
    "ax.set_xlabel('phase')\n",
    "ax.set_ylabel('mag')\n",
    "plt.show()\n",
    "\n",
    "\n",
    "#Two phases\n",
    "\n",
    "phase2 = phase-1\n",
    "phasesall= np.concatenate((phase2, phase), axis=None)\n",
    "magall = np.concatenate((mag,mag),axis=None)\n",
    "\n",
    "# compute the best-fit model\n",
    "phase_fit2 = np.linspace(-1, 1,len(mjd))\n",
    "mag_fit2 = LombScargle(mjd, mag).model(t=phase_fit2 / best_freq,\n",
    "                                          frequency=best_freq)\n",
    "\n",
    "\n",
    "fig, ax = plt.subplots()\n",
    "# plot the phased data & model in the inset\n",
    "plt.errorbar(phasesall, magall, fmt='.k', capsize=0);\n",
    "plt.plot(phase_fit2, mag_fit2);\n",
    "summary = 'Best_frequency: {}, Period: {} days, {} Minutes'.format(best_freq,1/best_freq,\n",
    "                                                                               1/best_freq*24*60.)\n",
    "print(summary)"
   ]
  },
  {
   "cell_type": "code",
   "execution_count": 19,
   "metadata": {},
   "outputs": [
    {
     "name": "stdout",
     "output_type": "stream",
     "text": [
      "Best_frequency: 20.393958440214572, Period: 0.049034129540448286 days, 70.60914653824554 Minutes\n"
     ]
    },
    {
     "data": {
      "text/html": [
       "\n",
       "\n",
       "\n",
       "\n",
       "\n",
       "\n",
       "  <div class=\"bk-root\" id=\"529c19db-c6f5-47e2-b66a-c096f57e1f47\"></div>\n"
      ]
     },
     "metadata": {},
     "output_type": "display_data"
    },
    {
     "data": {
      "application/javascript": [
       "(function(root) {\n",
       "  function embed_document(root) {\n",
       "    \n",
       "  var docs_json = {\"e08be8a1-ce4b-4c81-876f-238b07956824\":{\"roots\":{\"references\":[{\"attributes\":{\"below\":[{\"id\":\"1374\",\"type\":\"LinearAxis\"}],\"left\":[{\"id\":\"1379\",\"type\":\"LinearAxis\"}],\"plot_height\":500,\"plot_width\":900,\"renderers\":[{\"id\":\"1374\",\"type\":\"LinearAxis\"},{\"id\":\"1378\",\"type\":\"Grid\"},{\"id\":\"1379\",\"type\":\"LinearAxis\"},{\"id\":\"1383\",\"type\":\"Grid\"},{\"id\":\"1392\",\"type\":\"BoxAnnotation\"},{\"id\":\"1442\",\"type\":\"GlyphRenderer\"}],\"title\":{\"id\":\"1363\",\"type\":\"Title\"},\"toolbar\":{\"id\":\"1390\",\"type\":\"Toolbar\"},\"x_range\":{\"id\":\"1366\",\"type\":\"DataRange1d\"},\"x_scale\":{\"id\":\"1370\",\"type\":\"LinearScale\"},\"y_range\":{\"id\":\"1368\",\"type\":\"DataRange1d\"},\"y_scale\":{\"id\":\"1372\",\"type\":\"LinearScale\"}},\"id\":\"1364\",\"subtype\":\"Figure\",\"type\":\"Plot\"},{\"attributes\":{\"axis_label\":\"Power\",\"formatter\":{\"id\":\"1481\",\"type\":\"BasicTickFormatter\"},\"plot\":{\"id\":\"1364\",\"subtype\":\"Figure\",\"type\":\"Plot\"},\"ticker\":{\"id\":\"1380\",\"type\":\"BasicTicker\"}},\"id\":\"1379\",\"type\":\"LinearAxis\"},{\"attributes\":{},\"id\":\"1483\",\"type\":\"Selection\"},{\"attributes\":{\"dimension\":1,\"plot\":{\"id\":\"1364\",\"subtype\":\"Figure\",\"type\":\"Plot\"},\"ticker\":{\"id\":\"1380\",\"type\":\"BasicTicker\"}},\"id\":\"1383\",\"type\":\"Grid\"},{\"attributes\":{\"callback\":null},\"id\":\"1366\",\"type\":\"DataRange1d\"},{\"attributes\":{},\"id\":\"1370\",\"type\":\"LinearScale\"},{\"attributes\":{\"axis_label\":\"Period (days)\",\"formatter\":{\"id\":\"1479\",\"type\":\"BasicTickFormatter\"},\"plot\":{\"id\":\"1364\",\"subtype\":\"Figure\",\"type\":\"Plot\"},\"ticker\":{\"id\":\"1375\",\"type\":\"BasicTicker\"}},\"id\":\"1374\",\"type\":\"LinearAxis\"},{\"attributes\":{\"plot\":null,\"text\":\"Best_frequency: 20.393958440214572, Period: 0.049034129540448286 days, 70.60914653824554 Minutes\"},\"id\":\"1363\",\"type\":\"Title\"},{\"attributes\":{\"line_color\":\"#1f77b4\",\"x\":{\"field\":\"period\"},\"y\":{\"field\":\"power\"}},\"id\":\"1440\",\"type\":\"Line\"},{\"attributes\":{\"source\":{\"id\":\"1435\",\"type\":\"ColumnDataSource\"}},\"id\":\"1443\",\"type\":\"CDSView\"},{\"attributes\":{},\"id\":\"1387\",\"type\":\"SaveTool\"},{\"attributes\":{\"callback\":null,\"tooltips\":[[\"Period\",\"(@period{0.0000000}\"],[\"Frequency\",\"(@freq{0.00000})\"],[\"PeriodSec\",\"(@periodsec{0.0000000}\"]]},\"id\":\"1436\",\"type\":\"HoverTool\"},{\"attributes\":{},\"id\":\"1375\",\"type\":\"BasicTicker\"},{\"attributes\":{},\"id\":\"1479\",\"type\":\"BasicTickFormatter\"},{\"attributes\":{\"overlay\":{\"id\":\"1392\",\"type\":\"BoxAnnotation\"}},\"id\":\"1386\",\"type\":\"BoxZoomTool\"},{\"attributes\":{},\"id\":\"1380\",\"type\":\"BasicTicker\"},{\"attributes\":{},\"id\":\"1389\",\"type\":\"HelpTool\"},{\"attributes\":{},\"id\":\"1372\",\"type\":\"LinearScale\"},{\"attributes\":{},\"id\":\"1388\",\"type\":\"ResetTool\"},{\"attributes\":{\"active_drag\":{\"id\":\"1384\",\"type\":\"PanTool\"},\"active_inspect\":\"auto\",\"active_multi\":null,\"active_scroll\":{\"id\":\"1385\",\"type\":\"WheelZoomTool\"},\"active_tap\":\"auto\",\"tools\":[{\"id\":\"1384\",\"type\":\"PanTool\"},{\"id\":\"1385\",\"type\":\"WheelZoomTool\"},{\"id\":\"1386\",\"type\":\"BoxZoomTool\"},{\"id\":\"1387\",\"type\":\"SaveTool\"},{\"id\":\"1388\",\"type\":\"ResetTool\"},{\"id\":\"1389\",\"type\":\"HelpTool\"},{\"id\":\"1436\",\"type\":\"HoverTool\"}]},\"id\":\"1390\",\"type\":\"Toolbar\"},{\"attributes\":{\"callback\":null,\"data\":{\"freq\":{\"__ndarray__\":\"AAAAAAAA8D9rtNh12mQLQGu02HXaZBdAUIdi2KOLIEBrtNh12mQlQIbhThMRPipAoA7FsEcXL0DenR0nP/gxQGu02HXaZDRA+MqTxHXRNkCG4U4TET45QBP4CWKsqjtAoA7FsEcXPkCXEsB/8UFAQN6dHSc/eEFAJCl7zoyuQkBrtNh12uRDQLI/Nh0oG0VA+MqTxHVRRkA/VvFrw4dHQIbhThMRvkhAzGysul70SUAT+AlirCpLQFqDZwn6YExAoA7FsEeXTUDnmSJYlc1OQJcSwH/xAVBAOthuUxidUEDenR0nPzhRQIFjzPpl01FAJCl7zoxuUkDI7imiswlTQGu02HXapFNADnqHSQFAVECyPzYdKNtUQFUF5fBOdlVA+MqTxHURVkCckEKYnKxWQD9W8WvDR1dA4hugP+riV0CG4U4TEX5YQCmn/eY3GVlA\",\"dtype\":\"float64\",\"shape\":[42]},\"period\":{\"__ndarray__\":\"AAAAAAAA8D9cqCZjtLDSP0l/SWjQ4sU/g2a2Xu3xvj+aSfjllu63P7xgGO6ngrM/gG4QIMN3sD8cPTfyDH6sP/Exh10AG6k/9spHky9wpj9DuOX3hUikP/p6rKWJgaI/2+876dwDoT+0J4z0M36fP0HvJDXQTp0/v6YqRANomz+3+CNtiLyZP6CFIkYnQpg/+Sx8y9/wlj8gfUv5V8KVP6mZRm10sZQ/V4KN/w26kz/yQI1Gu9iSP4iyahGoCpI/8n8A2HZNkT9FOSViKZ+QP85XS3kd/I8/kzqAQmrRjj/qKhexvbuNP5X868DyuIw/FOhtoyzHiz/GQjtBy+SKP52VatxhEIo/iZpkYa9IiT/kybkOmIyIP31PJzAg24c/u3nkt2czhz/sn6GMppSGP07kSmsp/oU/FkRQQk9vhT9ZZmbxhueEP82OxFxNZoQ/\",\"dtype\":\"float64\",\"shape\":[42]},\"periodsec\":{\"__ndarray__\":\"AAAAAAAY9UD1drfQ9aPYQE/lfMGF2sxAE7wuOPllxEAK1S7wC42/QIgjZWTAuLlArqnFvuO1tUCI6akIF8iyQCzepn2MjLBAEiaruOaUrUBsWlGenL2qQCHk6vfGZahAt4R8vZdupkAsY3O/cMKkQLYYCL+zUaNAah0vJ9AQokAydvHtBvegQCqD9sY2+59ASjXECo8+nkB2BSn7tq+cQJWTEP7yR5tAVQ9pdMkBmkAfOYPlutiYQF4q9pIMyZdArajELaDPlkABE+QO1emVQCBqtG1wFZVAnAZWy4pQlECKBXxKgZmTQL+OqwTq7pJAu7K6rIpPkkBE0D/7ULqRQCBCC4JMLpFA3hBzm6mqkEDV97Q7rS6QQEzTe+9ic49Ae7bvPEWWjkBWFGeS+cSNQPw785qT/oxAwtHs/T5CjEDvf0BnPI+LQEQizf3e5IpA\",\"dtype\":\"float64\",\"shape\":[42]},\"power\":{\"__ndarray__\":\"5lPYafySwz+IMY79dsTDP/KOSasWD8Q/hcP8k8r5wz++QOzwkRLCP07lEyATHbo/Z1m5qmXTuT8b9qCj9unJPzKbwucSJdE/g80rhNtgzz9YV3MXPW/JP2868zWb/8A/Q9e417j/sj/xScSVoJOyP+Rjuj6Dg8A/NNgeXxwmyT8IROu7v6DNPz0/ozQMpso/b4pMVsFhwT/NQr/H5vawP87PPgZoSaE/hDBdUHFpoT9Mjy0CZGqmPyXWy/BWEao/giTh892Urj+APbfRqJC1P5x5xkM587w/fCC9yn1evD9owroBEqCyPwUUS/acgpk/4TcX70D1eD8zP9eazEalP6Ug1e0QA7o/tqwAZfpgwT9g0rISCb++P62J1msd7LE/NqnnRpl3mj9qa1jvaad2P2Tk/Y2vxnM/q8deOKfXeT919o/YMfqEP/r7jvoTlqE/\",\"dtype\":\"float64\",\"shape\":[42]}},\"selected\":{\"id\":\"1483\",\"type\":\"Selection\"},\"selection_policy\":{\"id\":\"1482\",\"type\":\"UnionRenderers\"}},\"id\":\"1435\",\"type\":\"ColumnDataSource\"},{\"attributes\":{},\"id\":\"1385\",\"type\":\"WheelZoomTool\"},{\"attributes\":{\"data_source\":{\"id\":\"1435\",\"type\":\"ColumnDataSource\"},\"glyph\":{\"id\":\"1440\",\"type\":\"Line\"},\"hover_glyph\":null,\"muted_glyph\":null,\"nonselection_glyph\":{\"id\":\"1441\",\"type\":\"Line\"},\"selection_glyph\":null,\"view\":{\"id\":\"1443\",\"type\":\"CDSView\"}},\"id\":\"1442\",\"type\":\"GlyphRenderer\"},{\"attributes\":{},\"id\":\"1482\",\"type\":\"UnionRenderers\"},{\"attributes\":{\"callback\":null},\"id\":\"1368\",\"type\":\"DataRange1d\"},{\"attributes\":{},\"id\":\"1384\",\"type\":\"PanTool\"},{\"attributes\":{\"line_alpha\":0.1,\"line_color\":\"#1f77b4\",\"x\":{\"field\":\"period\"},\"y\":{\"field\":\"power\"}},\"id\":\"1441\",\"type\":\"Line\"},{\"attributes\":{},\"id\":\"1481\",\"type\":\"BasicTickFormatter\"},{\"attributes\":{\"plot\":{\"id\":\"1364\",\"subtype\":\"Figure\",\"type\":\"Plot\"},\"ticker\":{\"id\":\"1375\",\"type\":\"BasicTicker\"}},\"id\":\"1378\",\"type\":\"Grid\"},{\"attributes\":{\"bottom_units\":\"screen\",\"fill_alpha\":{\"value\":0.5},\"fill_color\":{\"value\":\"lightgrey\"},\"left_units\":\"screen\",\"level\":\"overlay\",\"line_alpha\":{\"value\":1.0},\"line_color\":{\"value\":\"black\"},\"line_dash\":[4,4],\"line_width\":{\"value\":2},\"plot\":null,\"render_mode\":\"css\",\"right_units\":\"screen\",\"top_units\":\"screen\"},\"id\":\"1392\",\"type\":\"BoxAnnotation\"}],\"root_ids\":[\"1364\"]},\"title\":\"Bokeh Application\",\"version\":\"1.0.2\"}};\n",
       "  var render_items = [{\"docid\":\"e08be8a1-ce4b-4c81-876f-238b07956824\",\"roots\":{\"1364\":\"529c19db-c6f5-47e2-b66a-c096f57e1f47\"}}];\n",
       "  root.Bokeh.embed.embed_items_notebook(docs_json, render_items);\n",
       "\n",
       "  }\n",
       "  if (root.Bokeh !== undefined) {\n",
       "    embed_document(root);\n",
       "  } else {\n",
       "    var attempts = 0;\n",
       "    var timer = setInterval(function(root) {\n",
       "      if (root.Bokeh !== undefined) {\n",
       "        embed_document(root);\n",
       "        clearInterval(timer);\n",
       "      }\n",
       "      attempts++;\n",
       "      if (attempts > 100) {\n",
       "        console.log(\"Bokeh: ERROR: Unable to run BokehJS code because BokehJS library is missing\");\n",
       "        clearInterval(timer);\n",
       "      }\n",
       "    }, 10, root)\n",
       "  }\n",
       "})(window);"
      ],
      "application/vnd.bokehjs_exec.v0+json": ""
     },
     "metadata": {
      "application/vnd.bokehjs_exec.v0+json": {
       "id": "1364"
      }
     },
     "output_type": "display_data"
    },
    {
     "data": {
      "text/html": [
       "\n",
       "\n",
       "\n",
       "\n",
       "\n",
       "\n",
       "  <div class=\"bk-root\" id=\"515a05e9-e0d6-466c-9ea7-fb08e642e293\"></div>\n"
      ]
     },
     "metadata": {},
     "output_type": "display_data"
    },
    {
     "data": {
      "application/javascript": [
       "(function(root) {\n",
       "  function embed_document(root) {\n",
       "    \n",
       "  var docs_json = {\"e61536e8-753d-4998-9e05-159c458c01f4\":{\"roots\":{\"references\":[{\"attributes\":{\"below\":[{\"id\":\"1410\",\"type\":\"LinearAxis\"}],\"left\":[{\"id\":\"1415\",\"type\":\"LinearAxis\"}],\"plot_height\":500,\"plot_width\":900,\"renderers\":[{\"id\":\"1410\",\"type\":\"LinearAxis\"},{\"id\":\"1414\",\"type\":\"Grid\"},{\"id\":\"1415\",\"type\":\"LinearAxis\"},{\"id\":\"1419\",\"type\":\"Grid\"},{\"id\":\"1428\",\"type\":\"BoxAnnotation\"},{\"id\":\"1447\",\"type\":\"GlyphRenderer\"}],\"title\":{\"id\":\"1399\",\"type\":\"Title\"},\"toolbar\":{\"id\":\"1426\",\"type\":\"Toolbar\"},\"x_range\":{\"id\":\"1402\",\"type\":\"DataRange1d\"},\"x_scale\":{\"id\":\"1406\",\"type\":\"LinearScale\"},\"y_range\":{\"id\":\"1404\",\"type\":\"DataRange1d\"},\"y_scale\":{\"id\":\"1408\",\"type\":\"LinearScale\"}},\"id\":\"1400\",\"subtype\":\"Figure\",\"type\":\"Plot\"},{\"attributes\":{},\"id\":\"1483\",\"type\":\"Selection\"},{\"attributes\":{\"axis_label\":\"Freq (1/days)\",\"formatter\":{\"id\":\"1571\",\"type\":\"BasicTickFormatter\"},\"plot\":{\"id\":\"1400\",\"subtype\":\"Figure\",\"type\":\"Plot\"},\"ticker\":{\"id\":\"1411\",\"type\":\"BasicTicker\"}},\"id\":\"1410\",\"type\":\"LinearAxis\"},{\"attributes\":{},\"id\":\"1420\",\"type\":\"PanTool\"},{\"attributes\":{\"overlay\":{\"id\":\"1428\",\"type\":\"BoxAnnotation\"}},\"id\":\"1422\",\"type\":\"BoxZoomTool\"},{\"attributes\":{},\"id\":\"1421\",\"type\":\"WheelZoomTool\"},{\"attributes\":{},\"id\":\"1423\",\"type\":\"SaveTool\"},{\"attributes\":{},\"id\":\"1424\",\"type\":\"ResetTool\"},{\"attributes\":{\"source\":{\"id\":\"1435\",\"type\":\"ColumnDataSource\"}},\"id\":\"1448\",\"type\":\"CDSView\"},{\"attributes\":{},\"id\":\"1425\",\"type\":\"HelpTool\"},{\"attributes\":{\"plot\":{\"id\":\"1400\",\"subtype\":\"Figure\",\"type\":\"Plot\"},\"ticker\":{\"id\":\"1411\",\"type\":\"BasicTicker\"}},\"id\":\"1414\",\"type\":\"Grid\"},{\"attributes\":{\"line_color\":\"#1f77b4\",\"x\":{\"field\":\"freq\"},\"y\":{\"field\":\"power\"}},\"id\":\"1445\",\"type\":\"Line\"},{\"attributes\":{\"active_drag\":{\"id\":\"1420\",\"type\":\"PanTool\"},\"active_inspect\":\"auto\",\"active_multi\":null,\"active_scroll\":{\"id\":\"1421\",\"type\":\"WheelZoomTool\"},\"active_tap\":\"auto\",\"tools\":[{\"id\":\"1420\",\"type\":\"PanTool\"},{\"id\":\"1421\",\"type\":\"WheelZoomTool\"},{\"id\":\"1422\",\"type\":\"BoxZoomTool\"},{\"id\":\"1423\",\"type\":\"SaveTool\"},{\"id\":\"1424\",\"type\":\"ResetTool\"},{\"id\":\"1425\",\"type\":\"HelpTool\"},{\"id\":\"1436\",\"type\":\"HoverTool\"}]},\"id\":\"1426\",\"type\":\"Toolbar\"},{\"attributes\":{\"callback\":null},\"id\":\"1404\",\"type\":\"DataRange1d\"},{\"attributes\":{\"callback\":null,\"tooltips\":[[\"Period\",\"(@period{0.0000000}\"],[\"Frequency\",\"(@freq{0.00000})\"],[\"PeriodSec\",\"(@periodsec{0.0000000}\"]]},\"id\":\"1436\",\"type\":\"HoverTool\"},{\"attributes\":{},\"id\":\"1411\",\"type\":\"BasicTicker\"},{\"attributes\":{},\"id\":\"1573\",\"type\":\"BasicTickFormatter\"},{\"attributes\":{\"bottom_units\":\"screen\",\"fill_alpha\":{\"value\":0.5},\"fill_color\":{\"value\":\"lightgrey\"},\"left_units\":\"screen\",\"level\":\"overlay\",\"line_alpha\":{\"value\":1.0},\"line_color\":{\"value\":\"black\"},\"line_dash\":[4,4],\"line_width\":{\"value\":2},\"plot\":null,\"render_mode\":\"css\",\"right_units\":\"screen\",\"top_units\":\"screen\"},\"id\":\"1428\",\"type\":\"BoxAnnotation\"},{\"attributes\":{\"axis_label\":\"Power\",\"formatter\":{\"id\":\"1573\",\"type\":\"BasicTickFormatter\"},\"plot\":{\"id\":\"1400\",\"subtype\":\"Figure\",\"type\":\"Plot\"},\"ticker\":{\"id\":\"1416\",\"type\":\"BasicTicker\"}},\"id\":\"1415\",\"type\":\"LinearAxis\"},{\"attributes\":{\"dimension\":1,\"plot\":{\"id\":\"1400\",\"subtype\":\"Figure\",\"type\":\"Plot\"},\"ticker\":{\"id\":\"1416\",\"type\":\"BasicTicker\"}},\"id\":\"1419\",\"type\":\"Grid\"},{\"attributes\":{\"callback\":null,\"data\":{\"freq\":{\"__ndarray__\":\"AAAAAAAA8D9rtNh12mQLQGu02HXaZBdAUIdi2KOLIEBrtNh12mQlQIbhThMRPipAoA7FsEcXL0DenR0nP/gxQGu02HXaZDRA+MqTxHXRNkCG4U4TET45QBP4CWKsqjtAoA7FsEcXPkCXEsB/8UFAQN6dHSc/eEFAJCl7zoyuQkBrtNh12uRDQLI/Nh0oG0VA+MqTxHVRRkA/VvFrw4dHQIbhThMRvkhAzGysul70SUAT+AlirCpLQFqDZwn6YExAoA7FsEeXTUDnmSJYlc1OQJcSwH/xAVBAOthuUxidUEDenR0nPzhRQIFjzPpl01FAJCl7zoxuUkDI7imiswlTQGu02HXapFNADnqHSQFAVECyPzYdKNtUQFUF5fBOdlVA+MqTxHURVkCckEKYnKxWQD9W8WvDR1dA4hugP+riV0CG4U4TEX5YQCmn/eY3GVlA\",\"dtype\":\"float64\",\"shape\":[42]},\"period\":{\"__ndarray__\":\"AAAAAAAA8D9cqCZjtLDSP0l/SWjQ4sU/g2a2Xu3xvj+aSfjllu63P7xgGO6ngrM/gG4QIMN3sD8cPTfyDH6sP/Exh10AG6k/9spHky9wpj9DuOX3hUikP/p6rKWJgaI/2+876dwDoT+0J4z0M36fP0HvJDXQTp0/v6YqRANomz+3+CNtiLyZP6CFIkYnQpg/+Sx8y9/wlj8gfUv5V8KVP6mZRm10sZQ/V4KN/w26kz/yQI1Gu9iSP4iyahGoCpI/8n8A2HZNkT9FOSViKZ+QP85XS3kd/I8/kzqAQmrRjj/qKhexvbuNP5X868DyuIw/FOhtoyzHiz/GQjtBy+SKP52VatxhEIo/iZpkYa9IiT/kybkOmIyIP31PJzAg24c/u3nkt2czhz/sn6GMppSGP07kSmsp/oU/FkRQQk9vhT9ZZmbxhueEP82OxFxNZoQ/\",\"dtype\":\"float64\",\"shape\":[42]},\"periodsec\":{\"__ndarray__\":\"AAAAAAAY9UD1drfQ9aPYQE/lfMGF2sxAE7wuOPllxEAK1S7wC42/QIgjZWTAuLlArqnFvuO1tUCI6akIF8iyQCzepn2MjLBAEiaruOaUrUBsWlGenL2qQCHk6vfGZahAt4R8vZdupkAsY3O/cMKkQLYYCL+zUaNAah0vJ9AQokAydvHtBvegQCqD9sY2+59ASjXECo8+nkB2BSn7tq+cQJWTEP7yR5tAVQ9pdMkBmkAfOYPlutiYQF4q9pIMyZdArajELaDPlkABE+QO1emVQCBqtG1wFZVAnAZWy4pQlECKBXxKgZmTQL+OqwTq7pJAu7K6rIpPkkBE0D/7ULqRQCBCC4JMLpFA3hBzm6mqkEDV97Q7rS6QQEzTe+9ic49Ae7bvPEWWjkBWFGeS+cSNQPw785qT/oxAwtHs/T5CjEDvf0BnPI+LQEQizf3e5IpA\",\"dtype\":\"float64\",\"shape\":[42]},\"power\":{\"__ndarray__\":\"5lPYafySwz+IMY79dsTDP/KOSasWD8Q/hcP8k8r5wz++QOzwkRLCP07lEyATHbo/Z1m5qmXTuT8b9qCj9unJPzKbwucSJdE/g80rhNtgzz9YV3MXPW/JP2868zWb/8A/Q9e417j/sj/xScSVoJOyP+Rjuj6Dg8A/NNgeXxwmyT8IROu7v6DNPz0/ozQMpso/b4pMVsFhwT/NQr/H5vawP87PPgZoSaE/hDBdUHFpoT9Mjy0CZGqmPyXWy/BWEao/giTh892Urj+APbfRqJC1P5x5xkM587w/fCC9yn1evD9owroBEqCyPwUUS/acgpk/4TcX70D1eD8zP9eazEalP6Ug1e0QA7o/tqwAZfpgwT9g0rISCb++P62J1msd7LE/NqnnRpl3mj9qa1jvaad2P2Tk/Y2vxnM/q8deOKfXeT919o/YMfqEP/r7jvoTlqE/\",\"dtype\":\"float64\",\"shape\":[42]}},\"selected\":{\"id\":\"1483\",\"type\":\"Selection\"},\"selection_policy\":{\"id\":\"1482\",\"type\":\"UnionRenderers\"}},\"id\":\"1435\",\"type\":\"ColumnDataSource\"},{\"attributes\":{\"line_alpha\":0.1,\"line_color\":\"#1f77b4\",\"x\":{\"field\":\"freq\"},\"y\":{\"field\":\"power\"}},\"id\":\"1446\",\"type\":\"Line\"},{\"attributes\":{},\"id\":\"1406\",\"type\":\"LinearScale\"},{\"attributes\":{\"plot\":null,\"text\":\"\"},\"id\":\"1399\",\"type\":\"Title\"},{\"attributes\":{\"callback\":null},\"id\":\"1402\",\"type\":\"DataRange1d\"},{\"attributes\":{\"data_source\":{\"id\":\"1435\",\"type\":\"ColumnDataSource\"},\"glyph\":{\"id\":\"1445\",\"type\":\"Line\"},\"hover_glyph\":null,\"muted_glyph\":null,\"nonselection_glyph\":{\"id\":\"1446\",\"type\":\"Line\"},\"selection_glyph\":null,\"view\":{\"id\":\"1448\",\"type\":\"CDSView\"}},\"id\":\"1447\",\"type\":\"GlyphRenderer\"},{\"attributes\":{},\"id\":\"1482\",\"type\":\"UnionRenderers\"},{\"attributes\":{},\"id\":\"1571\",\"type\":\"BasicTickFormatter\"},{\"attributes\":{},\"id\":\"1416\",\"type\":\"BasicTicker\"},{\"attributes\":{},\"id\":\"1408\",\"type\":\"LinearScale\"}],\"root_ids\":[\"1400\"]},\"title\":\"Bokeh Application\",\"version\":\"1.0.2\"}};\n",
       "  var render_items = [{\"docid\":\"e61536e8-753d-4998-9e05-159c458c01f4\",\"roots\":{\"1400\":\"515a05e9-e0d6-466c-9ea7-fb08e642e293\"}}];\n",
       "  root.Bokeh.embed.embed_items_notebook(docs_json, render_items);\n",
       "\n",
       "  }\n",
       "  if (root.Bokeh !== undefined) {\n",
       "    embed_document(root);\n",
       "  } else {\n",
       "    var attempts = 0;\n",
       "    var timer = setInterval(function(root) {\n",
       "      if (root.Bokeh !== undefined) {\n",
       "        embed_document(root);\n",
       "        clearInterval(timer);\n",
       "      }\n",
       "      attempts++;\n",
       "      if (attempts > 100) {\n",
       "        console.log(\"Bokeh: ERROR: Unable to run BokehJS code because BokehJS library is missing\");\n",
       "        clearInterval(timer);\n",
       "      }\n",
       "    }, 10, root)\n",
       "  }\n",
       "})(window);"
      ],
      "application/vnd.bokehjs_exec.v0+json": ""
     },
     "metadata": {
      "application/vnd.bokehjs_exec.v0+json": {
       "id": "1400"
      }
     },
     "output_type": "display_data"
    }
   ],
   "source": [
    "\n",
    "\n",
    "freq, PLS = LombScargle(mjd, mag).autopower(minimum_frequency=1 / 1.,\n",
    "                                                maximum_frequency=1 / 0.01)\n",
    "\n",
    "best_freq = freq[np.argmax(PLS)]\n",
    "\n",
    "summary = 'Best_frequency: {}, Period: {} days'.format(best_freq,1/best_freq)\n",
    "\n",
    "\n",
    "summary = 'Best_frequency: {}, Period: {} days, {} Minutes'.format(best_freq,1/best_freq,\n",
    "                                                                               1/best_freq*24*60.)\n",
    "sumseconds = '{} Seconds'.format( 1/best_freq*24*60.*60.)\n",
    "#p.add_layout(Title(text=sumseconds, text_font_size=\"10pt\"), 'above')\n",
    "\n",
    "\n",
    "print(summary)\n",
    "p1 = figure(plot_width=900, plot_height=500, title=summary,active_drag='pan', active_scroll='wheel_zoom',y_axis_label='Power',x_axis_label='Period (days)')\n",
    "p2 = figure(plot_width=900, plot_height=500, title='',active_drag='pan', active_scroll='wheel_zoom',y_axis_label='Power',x_axis_label='Freq (1/days)')\n",
    "\n",
    "\n",
    "#source1 = ColumnDataSource(data={'power':PLS,\n",
    "#                              'period': 1./freq})\n",
    "\n",
    "period = 1./freq\n",
    "periodsec =period*24.*60.*60.\n",
    "source1 = ColumnDataSource(data={'power':PLS,\n",
    "                              'period':1./freq,\n",
    "                                 'periodsec':periodsec,\n",
    "                                'freq':freq})\n",
    "\n",
    "#Tool to get wavelength\n",
    "hover1 = HoverTool(\n",
    "        tooltips=[\n",
    "            ('Period', '(@period{0.0000000}'),\n",
    "            ('Frequency', '(@freq{0.00000})'),\n",
    "             ('PeriodSec', '(@periodsec{0.0000000}'),\n",
    "        ]\n",
    "    )\n",
    "\n",
    "\n",
    "p1.add_tools(hover1)\n",
    "p2.add_tools(hover1)\n",
    "\n",
    "\n",
    "\n",
    "# add a circle renderer with a size, color, and alpha\n",
    "\n",
    "p1.line('period','power',source=source1)\n",
    "p2.line('freq','power',source=source1)\n",
    "\n",
    "show(p1)\n",
    "show(p2)"
   ]
  },
  {
   "cell_type": "code",
   "execution_count": 22,
   "metadata": {},
   "outputs": [
    {
     "data": {
      "text/html": [
       "\n",
       "\n",
       "\n",
       "\n",
       "\n",
       "\n",
       "  <div class=\"bk-root\" id=\"ae82e064-6a9a-47af-b717-b95def3e16e0\"></div>\n"
      ]
     },
     "metadata": {},
     "output_type": "display_data"
    },
    {
     "data": {
      "application/javascript": [
       "(function(root) {\n",
       "  function embed_document(root) {\n",
       "    \n",
       "  var docs_json = {\"c6b39218-882d-4be0-b21c-b1dec721d342\":{\"roots\":{\"references\":[{\"attributes\":{\"above\":[{\"id\":\"2033\",\"type\":\"Title\"}],\"below\":[{\"id\":\"2008\",\"type\":\"LinearAxis\"}],\"left\":[{\"id\":\"2013\",\"type\":\"LinearAxis\"}],\"plot_height\":500,\"plot_width\":900,\"renderers\":[{\"id\":\"2008\",\"type\":\"LinearAxis\"},{\"id\":\"2012\",\"type\":\"Grid\"},{\"id\":\"2013\",\"type\":\"LinearAxis\"},{\"id\":\"2017\",\"type\":\"Grid\"},{\"id\":\"2026\",\"type\":\"BoxAnnotation\"},{\"id\":\"2033\",\"type\":\"Title\"},{\"id\":\"2040\",\"type\":\"GlyphRenderer\"},{\"id\":\"2047\",\"type\":\"GlyphRenderer\"},{\"id\":\"2043\",\"type\":\"ColorBar\"}],\"right\":[{\"id\":\"2043\",\"type\":\"ColorBar\"}],\"title\":{\"id\":\"1997\",\"type\":\"Title\"},\"toolbar\":{\"id\":\"2024\",\"type\":\"Toolbar\"},\"x_range\":{\"id\":\"2000\",\"type\":\"DataRange1d\"},\"x_scale\":{\"id\":\"2004\",\"type\":\"LinearScale\"},\"y_range\":{\"id\":\"2002\",\"type\":\"DataRange1d\"},\"y_scale\":{\"id\":\"2006\",\"type\":\"LinearScale\"}},\"id\":\"1998\",\"subtype\":\"Figure\",\"type\":\"Plot\"},{\"attributes\":{\"axis_label\":\"flux\",\"formatter\":{\"id\":\"2123\",\"type\":\"BasicTickFormatter\"},\"plot\":{\"id\":\"1998\",\"subtype\":\"Figure\",\"type\":\"Plot\"},\"ticker\":{\"id\":\"2014\",\"type\":\"BasicTicker\"}},\"id\":\"2013\",\"type\":\"LinearAxis\"},{\"attributes\":{\"source\":{\"id\":\"2034\",\"type\":\"ColumnDataSource\"}},\"id\":\"2048\",\"type\":\"CDSView\"},{\"attributes\":{},\"id\":\"2021\",\"type\":\"SaveTool\"},{\"attributes\":{},\"id\":\"2022\",\"type\":\"ResetTool\"},{\"attributes\":{\"data_source\":{\"id\":\"2034\",\"type\":\"ColumnDataSource\"},\"glyph\":{\"id\":\"2045\",\"type\":\"Circle\"},\"hover_glyph\":null,\"muted_glyph\":null,\"nonselection_glyph\":{\"id\":\"2046\",\"type\":\"Circle\"},\"selection_glyph\":null,\"view\":{\"id\":\"2048\",\"type\":\"CDSView\"}},\"id\":\"2047\",\"type\":\"GlyphRenderer\"},{\"attributes\":{\"dimension\":1,\"plot\":{\"id\":\"1998\",\"subtype\":\"Figure\",\"type\":\"Plot\"},\"ticker\":{\"id\":\"2014\",\"type\":\"BasicTicker\"}},\"id\":\"2017\",\"type\":\"Grid\"},{\"attributes\":{},\"id\":\"2123\",\"type\":\"BasicTickFormatter\"},{\"attributes\":{\"plot\":null,\"text\":\"Best_frequency: 20.393958440214572, Period: 0.049034129540448286 days, 70.60914653824554 Minutes\"},\"id\":\"1997\",\"type\":\"Title\"},{\"attributes\":{},\"id\":\"2121\",\"type\":\"BasicTickFormatter\"},{\"attributes\":{},\"id\":\"2014\",\"type\":\"BasicTicker\"},{\"attributes\":{\"callback\":null,\"data\":{\"x\":{\"__ndarray__\":\"AAAAAAAA8L88PDw8PDzsv3h4eHh4eOi/tbS0tLS05L/x8PDw8PDgv1paWlpaWtq/1NLS0tLS0r+YlpaWlpbGvyAeHh4eHq6/IB4eHh4erj+YlpaWlpbGP9TS0tLS0tI/WFpaWlpa2j/w8PDw8PDgP7S0tLS0tOQ/eHh4eHh46D88PDw8PDzsPwAAAAAAAPA/\",\"dtype\":\"float64\",\"shape\":[18]},\"y\":{\"__ndarray__\":\"ivrpjKaMEEB2BUYIwmwhQLULM/kUZSZAQh9QtSqXJEBMw1SIP+gZQOQMIfKbw/s/gFnAOzNF979sR/p11tX2vygGUTGR1/w/98+1EmAyGkCcnJTic6skQCQ6pk8AXiZAg61RtQFOIUCO6x8B6T8QQIBorln8Xci/gGPjxIAt/r9ASZAhguDBv4b66YymjBBA\",\"dtype\":\"float64\",\"shape\":[18]}},\"selected\":{\"id\":\"2125\",\"type\":\"Selection\"},\"selection_policy\":{\"id\":\"2124\",\"type\":\"UnionRenderers\"}},\"id\":\"2037\",\"type\":\"ColumnDataSource\"},{\"attributes\":{\"source\":{\"id\":\"2037\",\"type\":\"ColumnDataSource\"}},\"id\":\"2041\",\"type\":\"CDSView\"},{\"attributes\":{\"line_color\":\"red\",\"x\":{\"field\":\"x\"},\"y\":{\"field\":\"y\"}},\"id\":\"2038\",\"type\":\"Line\"},{\"attributes\":{},\"id\":\"2023\",\"type\":\"HelpTool\"},{\"attributes\":{},\"id\":\"2120\",\"type\":\"BasicTicker\"},{\"attributes\":{\"active_drag\":{\"id\":\"2018\",\"type\":\"PanTool\"},\"active_inspect\":\"auto\",\"active_multi\":null,\"active_scroll\":{\"id\":\"2019\",\"type\":\"WheelZoomTool\"},\"active_tap\":\"auto\",\"tools\":[{\"id\":\"2018\",\"type\":\"PanTool\"},{\"id\":\"2019\",\"type\":\"WheelZoomTool\"},{\"id\":\"2020\",\"type\":\"BoxZoomTool\"},{\"id\":\"2021\",\"type\":\"SaveTool\"},{\"id\":\"2022\",\"type\":\"ResetTool\"},{\"id\":\"2023\",\"type\":\"HelpTool\"},{\"id\":\"2035\",\"type\":\"HoverTool\"}]},\"id\":\"2024\",\"type\":\"Toolbar\"},{\"attributes\":{},\"id\":\"2124\",\"type\":\"UnionRenderers\"},{\"attributes\":{},\"id\":\"2018\",\"type\":\"PanTool\"},{\"attributes\":{\"bottom_units\":\"screen\",\"fill_alpha\":{\"value\":0.5},\"fill_color\":{\"value\":\"lightgrey\"},\"left_units\":\"screen\",\"level\":\"overlay\",\"line_alpha\":{\"value\":1.0},\"line_color\":{\"value\":\"black\"},\"line_dash\":[4,4],\"line_width\":{\"value\":2},\"plot\":null,\"render_mode\":\"css\",\"right_units\":\"screen\",\"top_units\":\"screen\"},\"id\":\"2026\",\"type\":\"BoxAnnotation\"},{\"attributes\":{\"callback\":null},\"id\":\"2000\",\"type\":\"DataRange1d\"},{\"attributes\":{},\"id\":\"2125\",\"type\":\"Selection\"},{\"attributes\":{},\"id\":\"2004\",\"type\":\"LinearScale\"},{\"attributes\":{\"callback\":null,\"data\":{\"flux\":{\"__ndarray__\":\"AAAAAAAAAADjpZvEILDuv3e+nxovHSVAz/dT46WbCECuR+F6FK4PQGiR7Xw/NRdAGQRWDi0yJUBKDAIrh5YQwKRwPQrXoyJAJzEIrBwaIMD0/dR46SYTQKRwPQrXIyBAUrgeheuRNkBU46WbxOAiQNnO91PjBTVAFK5H4XoUEkDXo3A9ClcaQDvfT42XriJAAAAAAAAAAADjpZvEILDuv3e+nxovHSVAz/dT46WbCECuR+F6FK4PQGiR7Xw/NRdAGQRWDi0yJUBKDAIrh5YQwKRwPQrXoyJAJzEIrBwaIMD0/dR46SYTQKRwPQrXIyBAUrgeheuRNkBU46WbxOAiQNnO91PjBTVAFK5H4XoUEkDXo3A9ClcaQDvfT42XriJA\",\"dtype\":\"float64\",\"shape\":[36]},\"mjd\":{\"__ndarray__\":\"mEMWwijk60DMxWjkKOTrQCSGuwYp5OtAIU4mKSnk60B2sZFLKeTrQJhg/G0p5OtAlShnkCnk60DsNNKyKeTrQEP1JNUp5OtAcwIPUyrk60CnhGF1KuTrQP9EtJcq5OtA6JA3uirk60BTzXHcKuTrQODqxP4q5OtAAk4XISvk60D8w4JDK+TrQFYi7WUr5OtAmEMWwijk60DMxWjkKOTrQCSGuwYp5OtAIU4mKSnk60B2sZFLKeTrQJhg/G0p5OtAlShnkCnk60DsNNKyKeTrQEP1JNUp5OtAcwIPUyrk60CnhGF1KuTrQP9EtJcq5OtA6JA3uirk60BTzXHcKuTrQODqxP4q5OtAAk4XISvk60D8w4JDK+TrQFYi7WUr5OtA\",\"dtype\":\"float64\",\"shape\":[36]},\"phase\":{\"__ndarray__\":\"AAAAnc9Gvr8AAAAqJM6gvwAAYJ7lUO6/AACg6f6S678AAODUC9XovwAAIBsnF+a/AACAZkBZ478AAOA/VJvgvwAAgDevvtu/AAAAnJ27vr8AAAAowLehvwAAQF5/X+6/AADAsqSf678AAGAFnOXovwAAQPSXKea/AADgvKJt478AAAAsrq/gvwAAQMOf49u/AABgDCY37D8AAGC9HfPuPwAAABqm8ao/AACAWQS0wT8AAICs0KvMPwAAwMmx0dM/AAAAM39N2T8AAECAV8nePwAAQGSoIOI/AACATIwo7D8AAID9g+TuPwAAABwKCKo/AAAANW2BwT8AAIDqj2nMPwAAgBfQrNM/AABAhrok2T8AAACoo6DePwAAYB4wDuI/\",\"dtype\":\"float64\",\"shape\":[36]}},\"selected\":{\"id\":\"2127\",\"type\":\"Selection\"},\"selection_policy\":{\"id\":\"2126\",\"type\":\"UnionRenderers\"}},\"id\":\"2034\",\"type\":\"ColumnDataSource\"},{\"attributes\":{},\"id\":\"2126\",\"type\":\"UnionRenderers\"},{\"attributes\":{\"high\":57121.356192175925,\"low\":57121.273692256946,\"palette\":[\"#440154\",\"#471669\",\"#472A79\",\"#433C84\",\"#3C4D8A\",\"#355D8C\",\"#2E6C8E\",\"#287A8E\",\"#23898D\",\"#1E978A\",\"#20A585\",\"#2EB27C\",\"#45BF6F\",\"#64CB5D\",\"#88D547\",\"#AFDC2E\",\"#D7E219\",\"#FDE724\"]},\"id\":\"2042\",\"type\":\"LinearColorMapper\"},{\"attributes\":{\"callback\":null},\"id\":\"2002\",\"type\":\"DataRange1d\"},{\"attributes\":{},\"id\":\"2127\",\"type\":\"Selection\"},{\"attributes\":{\"line_alpha\":0.1,\"line_color\":\"#1f77b4\",\"x\":{\"field\":\"x\"},\"y\":{\"field\":\"y\"}},\"id\":\"2039\",\"type\":\"Line\"},{\"attributes\":{\"data_source\":{\"id\":\"2037\",\"type\":\"ColumnDataSource\"},\"glyph\":{\"id\":\"2038\",\"type\":\"Line\"},\"hover_glyph\":null,\"muted_glyph\":null,\"nonselection_glyph\":{\"id\":\"2039\",\"type\":\"Line\"},\"selection_glyph\":null,\"view\":{\"id\":\"2041\",\"type\":\"CDSView\"}},\"id\":\"2040\",\"type\":\"GlyphRenderer\"},{\"attributes\":{},\"id\":\"2019\",\"type\":\"WheelZoomTool\"},{\"attributes\":{\"color_mapper\":{\"id\":\"2042\",\"type\":\"LinearColorMapper\"},\"formatter\":{\"id\":\"2121\",\"type\":\"BasicTickFormatter\"},\"location\":[0,0.5],\"plot\":{\"id\":\"1998\",\"subtype\":\"Figure\",\"type\":\"Plot\"},\"ticker\":{\"id\":\"2120\",\"type\":\"BasicTicker\"},\"title\":\"MJD\"},\"id\":\"2043\",\"type\":\"ColorBar\"},{\"attributes\":{},\"id\":\"2006\",\"type\":\"LinearScale\"},{\"attributes\":{\"plot\":{\"id\":\"1998\",\"subtype\":\"Figure\",\"type\":\"Plot\"},\"text\":\"4236.548792294732 Seconds\",\"text_font_size\":{\"value\":\"10pt\"}},\"id\":\"2033\",\"type\":\"Title\"},{\"attributes\":{},\"id\":\"2009\",\"type\":\"BasicTicker\"},{\"attributes\":{\"axis_label\":\"Phase\",\"formatter\":{\"id\":\"2119\",\"type\":\"BasicTickFormatter\"},\"plot\":{\"id\":\"1998\",\"subtype\":\"Figure\",\"type\":\"Plot\"},\"ticker\":{\"id\":\"2009\",\"type\":\"BasicTicker\"}},\"id\":\"2008\",\"type\":\"LinearAxis\"},{\"attributes\":{\"plot\":{\"id\":\"1998\",\"subtype\":\"Figure\",\"type\":\"Plot\"},\"ticker\":{\"id\":\"2009\",\"type\":\"BasicTicker\"}},\"id\":\"2012\",\"type\":\"Grid\"},{\"attributes\":{},\"id\":\"2119\",\"type\":\"BasicTickFormatter\"},{\"attributes\":{\"fill_alpha\":{\"value\":0.1},\"fill_color\":{\"value\":\"#1f77b4\"},\"line_alpha\":{\"value\":0.1},\"line_color\":{\"value\":\"#1f77b4\"},\"x\":{\"field\":\"phase\"},\"y\":{\"field\":\"flux\"}},\"id\":\"2046\",\"type\":\"Circle\"},{\"attributes\":{\"fill_color\":{\"field\":\"mjd\",\"transform\":{\"id\":\"2042\",\"type\":\"LinearColorMapper\"}},\"line_color\":{\"field\":\"mjd\",\"transform\":{\"id\":\"2042\",\"type\":\"LinearColorMapper\"}},\"x\":{\"field\":\"phase\"},\"y\":{\"field\":\"flux\"}},\"id\":\"2045\",\"type\":\"Circle\"},{\"attributes\":{\"callback\":null,\"tooltips\":[[\"Date\",\"(@mjd{0.0000})\"]]},\"id\":\"2035\",\"type\":\"HoverTool\"},{\"attributes\":{\"overlay\":{\"id\":\"2026\",\"type\":\"BoxAnnotation\"}},\"id\":\"2020\",\"type\":\"BoxZoomTool\"}],\"root_ids\":[\"1998\"]},\"title\":\"Bokeh Application\",\"version\":\"1.0.2\"}};\n",
       "  var render_items = [{\"docid\":\"c6b39218-882d-4be0-b21c-b1dec721d342\",\"roots\":{\"1998\":\"ae82e064-6a9a-47af-b717-b95def3e16e0\"}}];\n",
       "  root.Bokeh.embed.embed_items_notebook(docs_json, render_items);\n",
       "\n",
       "  }\n",
       "  if (root.Bokeh !== undefined) {\n",
       "    embed_document(root);\n",
       "  } else {\n",
       "    var attempts = 0;\n",
       "    var timer = setInterval(function(root) {\n",
       "      if (root.Bokeh !== undefined) {\n",
       "        embed_document(root);\n",
       "        clearInterval(timer);\n",
       "      }\n",
       "      attempts++;\n",
       "      if (attempts > 100) {\n",
       "        console.log(\"Bokeh: ERROR: Unable to run BokehJS code because BokehJS library is missing\");\n",
       "        clearInterval(timer);\n",
       "      }\n",
       "    }, 10, root)\n",
       "  }\n",
       "})(window);"
      ],
      "application/vnd.bokehjs_exec.v0+json": ""
     },
     "metadata": {
      "application/vnd.bokehjs_exec.v0+json": {
       "id": "1998"
      }
     },
     "output_type": "display_data"
    }
   ],
   "source": [
    "best_freq = freq[np.argmax(PLS)]\n",
    "#best_freq = 39.7879\n",
    "\n",
    "\n",
    "summary = 'Best_frequency: {}, Period: {} days, {} Minutes'.format(best_freq,1/best_freq,\n",
    "                                                                               1/best_freq*24*60.)\n",
    "sumseconds = '{} Seconds'.format( 1/best_freq*24*60.*60.)\n",
    "\n",
    "\n",
    "phase = (mjd * best_freq) % 1\n",
    "\n",
    "# compute the best-fit model\n",
    "phase_fit = np.linspace(0, 1,len(mjd))\n",
    "mag_fit = LombScargle(mjd, mag).model(t=phase_fit / best_freq,\n",
    "                                          frequency=best_freq)\n",
    "#Two phases\n",
    "\n",
    "phase2 = phase-1\n",
    "phasesall= np.concatenate((phase2, phase), axis=None)\n",
    "magall = np.concatenate((mag,mag),axis=None)\n",
    "mjdall =  np.concatenate((mjd,mjd),axis=None)\n",
    "\n",
    "\n",
    "# compute the best-fit model\n",
    "phase_fit2 = np.linspace(-1, 1,len(mjd))\n",
    "mag_fit2 = LombScargle(mjd, mag).model(t=phase_fit2 / best_freq,\n",
    "                                          frequency=best_freq)\n",
    "\n",
    "\n",
    "\n",
    "#my_palette = big_palette(len(mag),viridis)\n",
    "my_palette = viridis(len(mag))\n",
    "colorlist = my_palette\n",
    "\n",
    "\n",
    "p = figure(plot_width=900, plot_height=500, title=summary,active_drag='pan'\n",
    "           , active_scroll='wheel_zoom',y_axis_label='flux',x_axis_label='Phase')\n",
    "\n",
    "p.add_layout(Title(text=sumseconds, text_font_size=\"10pt\"), 'above')\n",
    "\n",
    "\n",
    "source = ColumnDataSource(data={'phase':phasesall,\n",
    "                                'flux':magall,\n",
    "                                'mjd':mjdall })\n",
    "  \n",
    "\n",
    "\n",
    "#Tool to get wavelength\n",
    "hover2 = HoverTool(\n",
    "        tooltips=[\n",
    "            ('Date', '(@mjd{0.0000})')\n",
    "        ]\n",
    "    )\n",
    "\n",
    "\n",
    "p.add_tools(hover2)\n",
    "\n",
    "\n",
    "# add a circle renderer with a size, color, and alpha\n",
    "#p.add_layout(\n",
    "#    Whisker(source=source, base=\"phase\", upper=\"upper\", lower=\"lower\")\n",
    "#)\n",
    "\n",
    "p.line(phase_fit2, mag_fit2,color='red')\n",
    "#p.y_range.flipped = True\n",
    "\n",
    "mapper = LinearColorMapper(palette=colorlist, low=mjdall.min(), high=mjdall.max())\n",
    "\n",
    "#mapper.low_color = 'blue'\n",
    "#mapper.high_color = 'red'\n",
    "\n",
    "color_bar = ColorBar(color_mapper=mapper, location=(0, 0.5),title='MJD')\n",
    "\n",
    "p.circle('phase','flux',source=source,color={'field': 'mjd', 'transform': mapper})\n",
    "\n",
    "\n",
    "p.add_layout(color_bar, 'right')\n",
    "#@date{%F}'\n",
    "\n",
    "show(p)"
   ]
  },
  {
   "cell_type": "code",
   "execution_count": null,
   "metadata": {},
   "outputs": [],
   "source": []
  },
  {
   "cell_type": "code",
   "execution_count": null,
   "metadata": {},
   "outputs": [],
   "source": []
  }
 ],
 "metadata": {
  "kernelspec": {
   "display_name": "Python 3",
   "language": "python",
   "name": "python3"
  },
  "language_info": {
   "codemirror_mode": {
    "name": "ipython",
    "version": 3
   },
   "file_extension": ".py",
   "mimetype": "text/x-python",
   "name": "python",
   "nbconvert_exporter": "python",
   "pygments_lexer": "ipython3",
   "version": "3.7.4"
  }
 },
 "nbformat": 4,
 "nbformat_minor": 2
}
